{
  "cells": [
    {
      "cell_type": "markdown",
      "metadata": {
        "id": "view-in-github",
        "colab_type": "text"
      },
      "source": [
        "<a href=\"https://colab.research.google.com/github/AshwinUnnikrishnan/DeepLearning7150/blob/main/LearnPytorch/1_Pytorch_Introduction.ipynb\" target=\"_parent\"><img src=\"https://colab.research.google.com/assets/colab-badge.svg\" alt=\"Open In Colab\"/></a>"
      ]
    },
    {
      "cell_type": "markdown",
      "metadata": {
        "id": "RhaUy-yPS-wI"
      },
      "source": [
        "How to Read Pytorch\n",
        "===================\n",
        "\n",
        "These five python notebooks are an introduction to core pytorch idioms.\n",
        "\n",
        "Pytorch is a numerical library that makes it very convenient to train deep networks on GPU hardware. It introduces a new programming vocabulary that takes a few steps beyond regular numerical python code. Although pytorch code can look simple and concrete, much of of the subtlety of what happens is invisible, so when working with pytorch code it helps to thoroughly understand the runtime model.\n",
        "\n",
        "For example, consider this code:\n",
        "\n",
        "```\n",
        "torch.nn.cross_entropy(model(images.cuda()), labels.cuda()).backward()\n",
        "optimizer.step()\n",
        "```\n",
        "\n",
        "It looks like it computes some function of `images` and `labels` without storing the answer.  But actually the purpose of this code is to update some hidden parameters that are not explicit in this formula.  This line of code moves batches of image and label data from CPU to the GPU; runs a neural network to make a prediction; constructs a computation graph describing how the loss depends on the network parameters; annotates every network parameter with a gradient; then finally it runs one step of optimization to adjust every parameter of the model.  During all this, the CPU does not see any of the actual answers.  That is intentional for speed reasons.  All the numerical computation is done on the GPU asynchronously and kept there.\n",
        "\n",
        "The berevity of the code is what makes pytorch code fun to write.  But it also reflects why pytorch can be so fast even though the python interpreter is so slow. Although the main python logic slogs along sequentially in a single very slow CPU thread, just a few python instructions can load a huge amount of work into the GPU.  That means the program can keep the GPU busy churning through massive numerical computations, for most part, without waiting for the python interpreter.\n",
        "\n",
        "Is is worth understanding five core idioms that work together to make this possible.  This tutorial has five Colab notebooks, one for each topic:\n",
        "\n",
        " 1. GPU Tensor arithmetic ([this notebook on colab](https://colab.research.google.com/github/davidbau/how-to-read-pytorch/blob/master/notebooks/1-Pytorch-Introduction.ipynb)): the notation for manipulating n-dimensional arrays of numbers on CPU or GPU.\n",
        " 2. [Autograd](./2-Pytorch-Autograd.ipynb): how to build a tensor computation graph and use it to get derivatives of any scalar with respect to any input.\n",
        " 3. [Optimization](./3-Pytorch-Optimizers.ipynb): ways to update tensor parameters to reduce any computed objective, using autograd gradients.\n",
        " 4. [Network modules](./4-Pytorch-Modules.ipynb): how pytorch represents neural networks for convenient composition, training, and saving.\n",
        " 5. [Datasets and Dataloaders](./5-Pytorch-Dataloader.ipynb): for efficient multithreaded prefetching of large streams of data.\n",
        "\n",
        "The key ideas are illustrated with small, illustrated, hackable examples, and there are links to other reference material and resources.\n",
        "\n",
        "All the notebooks can be run on Google Colab where some GPU compuation can be used for free, or they can be run on your own local Jupyter notebook server.\n",
        "\n",
        "The examples should all work with python 3.5 or newer and pytorch 1.0 or newer.\n",
        "\n",
        "The original [code on github can be found here](https://github.com/davidbau/how-to-read-pytorch).\n",
        "\n",
        "--- [*David Bau, July 2020*](http://davidbau.com/archives/2020/07/05/davids_tips_on_how_to_read_pytorch.html)"
      ]
    },
    {
      "cell_type": "markdown",
      "metadata": {
        "id": "b30oas5jS-wM"
      },
      "source": [
        "Topic 1: pytorch Tensors\n",
        "===============\n",
        "\n",
        "The first big trick for doing math fast on a modern computer is to do giant array operations all at once.\n",
        "\n",
        "To faciliate this, pytorch provides a [`torch.Tensor`](https://pytorch.org/docs/stable/tensors.html) class that is a lookalike to the older python numerical library [`numpy.ndarray`](https://numpy.org/doc/1.18/reference/arrays.ndarray.html).  Just like a numpy `ndarray`, the pytorch `Tensor` stores a d-dimensional array of numbers, where d can be zero or more, and where the contained numbers can be any of the usual selection of float or integer types.  Pytorch is designed to feel just like numpy: almost all the numpy operations are also available on torch tensors. But if something is missing, torch tensors can be directly converted to and from numpy using `x.numpy()` and `torch.from_numpy(a)`. So what is different and why did the pytorch authors bother to reimplement this whole library?\n",
        "\n",
        "**There are two things that pytorch Tensors have that numpy arrays lack:**\n",
        "\n",
        " 1. pytorch Tensors can live on either **GPU or CPU** (numpy is cpu-only).\n",
        " 2. pytorch can automatically track tensor computations to enable **automatic differentiation**.\n",
        "\n",
        "In the following sections on this page we talk about the basics of the Tensor API as well as point (1) - how to work with GPU and CPU tensors.  A discussion of (2) can be found in the next notebook, [2. Autograd](https://colab.research.google.com/github/davidbau/pytorch-tutorial/blob/master/notebooks/2-Pytorch-Autograd.ipynb).\n"
      ]
    },
    {
      "cell_type": "markdown",
      "metadata": {
        "id": "oILCE2KGS-wN"
      },
      "source": [
        "Basic operations in the Tensor API\n",
        "----------------------------------\n",
        "\n",
        "Pytorch is not very different from numpy, although the pytorch API has more convenience methods such as `x.clamp(0).pow(2)` (supporting a chained method style, as is popular in Javascript libraries, so you don't need to say the verbose `numpy.clip(numpy.pow(x, 2), 0)`). So code is often shorter in pytorch.  A brief overview:\n",
        "\n",
        "**Elementwise operations.** Most tensor operations are simple (embarassingly parallelizable) elementwise operations, where the same math is done on every element of the array.  `x+y`, `x*y`, `x.abs()`, `x.pow(3)`, etc.  Unlike Matlab, `*` is for element-wise multiplication, not matrix-multiplication.\n",
        "\n",
        "**Copy semantics by default.** Almost all operations, including things like `x.sort()`, return a new copy of the tensor without overwriting the input tensors.  The exceptions are functions that end in an underscore such as `x.mul_(2)` which doubles the contents of x in-place.\n",
        "\n",
        "**Common reduction operations.**  There are some common operations such as `max`, `min`, `mean`, `sum` that reduce the array by one or more dimension. In pytorch, you can specify which dimension you want to reduce by passing the argument `dim=n`.\n",
        "\n",
        "**Why does min return two things?** Note that `[data, indexes] = x.sort(dim=0)` and `[vals, indexes] = x.min(dim=0)` return the pair of both the answer and the index values, so you do not need to separately recompute `argsort` or `argmin` when you need to know where the min came from.\n",
        "\n",
        "**What about linear algebra?** It's there.  `torch.mm(a,b)` is matrix multiplication, `torch.inverse(a)` inverts, `torch.eig(a)` gets eigenvalues, etc.\n",
        "\n",
        "The other thing to know is that pytorch tends to be very fast, often much faster than numpy even on CPU, because its implementation is aggressively parallelized behind-the-scenes.  Pytorch is willing to use multiple threads in situations where numpy just uses one.\n",
        "\n",
        "See the [reference for Tensor methods](https://pytorch.org/docs/stable/tensors.html#torch.Tensor) for what comes built-in.  A simple demo of some vectors:\n",
        "\n"
      ]
    },
    {
      "cell_type": "code",
      "execution_count": 1,
      "metadata": {
        "colab": {
          "base_uri": "https://localhost:8080/"
        },
        "id": "XMxa-DxSS-wO",
        "outputId": "65426eb6-1411-4b04-ec12-68c767db305f"
      },
      "outputs": [
        {
          "output_type": "stream",
          "name": "stdout",
          "text": [
            "tensor([0.0000, 0.0500, 0.1000, 0.1500, 0.2000])\n"
          ]
        }
      ],
      "source": [
        "import math, numpy, torch\n",
        "from matplotlib import pyplot as plt\n",
        "\n",
        "# Make a vector of 101 equally spaced numbers from 0 to 5.\n",
        "x = torch.linspace(0, 5, 101)\n",
        "\n",
        "# Print the first five things in x.\n",
        "print(x[:5])"
      ]
    },
    {
      "cell_type": "markdown",
      "metadata": {
        "id": "0zCBApneS-wQ"
      },
      "source": [
        "### Exercise\n",
        "\n",
        "Print the last five things in x."
      ]
    },
    {
      "cell_type": "code",
      "execution_count": 2,
      "metadata": {
        "colab": {
          "base_uri": "https://localhost:8080/"
        },
        "id": "l3zHZCZiS-wQ",
        "outputId": "ad68a926-1903-4745-d38e-85bf9e78225c"
      },
      "outputs": [
        {
          "output_type": "stream",
          "name": "stdout",
          "text": [
            "tensor([4.8000, 4.8500, 4.9000, 4.9500, 5.0000])\n",
            "TODO\n"
          ]
        }
      ],
      "source": [
        "# TODO: Print the last five things in x (instead of the first five)\n",
        "print(x[-5:])\n",
        "print('TODO')"
      ]
    },
    {
      "cell_type": "code",
      "execution_count": 3,
      "metadata": {
        "colab": {
          "base_uri": "https://localhost:8080/",
          "height": 352
        },
        "id": "-8VmPQjFS-wR",
        "outputId": "cfc5aae8-06b5-45c0-94f2-aa5fc72627f9"
      },
      "outputs": [
        {
          "output_type": "stream",
          "name": "stdout",
          "text": [
            "The shape of x is torch.Size([101])\n",
            "The shape of y1=x.sin() is torch.Size([101])\n",
            "The shape of y2=x ** x.cos() is torch.Size([101])\n",
            "The shape of y3=y2 - y1 is torch.Size([101])\n",
            "The shape of y4=y3.min() is torch.Size([]), a zero-d scalar\n"
          ]
        },
        {
          "output_type": "display_data",
          "data": {
            "text/plain": [
              "<Figure size 432x288 with 1 Axes>"
            ],
            "image/png": "[encoded data removed]"
          },
          "metadata": {
            "needs_background": "light"
          }
        }
      ],
      "source": [
        "# Do some vector computations.\n",
        "y1, y2 = x.sin(), x ** x.cos()\n",
        "y3 = y2 - y1\n",
        "y4 = y3.min()\n",
        "\n",
        "# Print and plot some answers.\n",
        "print(f'The shape of x is {x.shape}')\n",
        "print(f'The shape of y1=x.sin() is {y1.shape}')\n",
        "print(f'The shape of y2=x ** x.cos() is {y2.shape}')\n",
        "print(f'The shape of y3=y2 - y1 is {y3.shape}')\n",
        "print(f'The shape of y4=y3.min() is {y4.shape}, a zero-d scalar')\n",
        "\n",
        "plt.plot(x, y1, 'red', x, y2, 'blue', x, y3, 'green')\n",
        "plt.axhline(y4, color='green', linestyle='--')\n",
        "plt.show()"
      ]
    },
    {
      "cell_type": "markdown",
      "metadata": {
        "id": "wtuqV-EaS-wR"
      },
      "source": [
        "### Exercise\n",
        "\n",
        "Plot y3 clamped between 0.0 and 1.0."
      ]
    },
    {
      "cell_type": "code",
      "execution_count": 4,
      "metadata": {
        "colab": {
          "base_uri": "https://localhost:8080/",
          "height": 265
        },
        "id": "BSEBmE0VS-wS",
        "outputId": "7a3c0299-fe9a-4940-f40e-fc1e6b019cd8"
      },
      "outputs": [
        {
          "output_type": "display_data",
          "data": {
            "text/plain": [
              "<Figure size 432x288 with 1 Axes>"
            ],
            "image/png": "[encoded data removed]"
          },
          "metadata": {
            "needs_background": "light"
          }
        }
      ],
      "source": [
        "# TODO: Plot y3 clamped between 0.0 and 1.0.\n",
        "y3 = y3.clamp(0.0,1.0)\n",
        "plt.plot(x,y3, 'red')\n",
        "plt.show()\n"
      ]
    },
    {
      "cell_type": "markdown",
      "metadata": {
        "id": "pMOKuOtAS-wT"
      },
      "source": [
        "Subscripts and multiple dimensions\n",
        "----------------------------------\n",
        "\n",
        "Pytorch code is full of multidimensional arrays.  The key to reading this kind of code is stopping to think about the careful, sometimes tangled, use of multiple array subscripts.\n",
        "\n",
        "**Slicing.** As normal in python, you can use `[min:max:stride]` to slice ranges, and multidimensional subscripts like `x[2,0,1,9]` work as you would expect (selecting the 9th entry of the of the 1st of the 0th of the 2nd entry of `x`; and can be used with slices like `x[0:3,2,:,:]`.  The special slice `:` selects the whole range in that dimension.\n",
        "\n",
        "**Unsqueezing to add a dimension, and broadcasting.** While a single integer subscript like `x[0]` eliminates a dimension, the special subscript `x[None]` does the reverse and adds an extra dimension of size one.\n",
        "\n",
        "An extra dimension of size one is more useful than you might imagine, because pytorch (similar to numpy) can combine different-shaped arrays as long as the shape differences appear only on dimensions of size one by **broadcasting** the singleton dimensions.  An example that uses broadcasting to calculate an outer product is illustrated below.\n",
        "\n",
        "**Fancy indexing.** Lots more can be done by passing numerical arrays or boolean array masks as subscripts.  The reshuffling possibilities can get quite intricate; the rules are modeled on the capabilties in numpy.  For details see [Numpy fancy indexing](https://numpy.org/doc/stable/user/basics.indexing.html).\n",
        "\n",
        "Here is a demonstration of simple tensor reshaping."
      ]
    },
    {
      "cell_type": "code",
      "execution_count": 33,
      "metadata": {
        "colab": {
          "base_uri": "https://localhost:8080/",
          "height": 701
        },
        "id": "5GaSvyjwS-wT",
        "outputId": "e6f59939-37fc-4b6d-8adc-8d39dd050cf9"
      },
      "outputs": [
        {
          "output_type": "stream",
          "name": "stdout",
          "text": [
            "m is tensor([[0.0793, 0.7899, 0.3311, 0.4782, 0.3084],\n",
            "        [0.3818, 0.6004, 0.6670, 0.7390, 1.0044]]), and m[1,2] is 0.667029857635498\n",
            "\n",
            "column zero, m[:,0] is tensor([0.0793, 0.3818])\n",
            "row zero m[0,:] is tensor([0.0793, 0.7899, 0.3311, 0.4782, 0.3084])\n",
            "\n",
            "The dot product of rows (m[0,:] * m[1,:]).sum() is 1.3885798454284668\n",
            "\n",
            "The outer product of rows m[0,:][None,:] * m[1,:][:,None] is:\n",
            "tensor([[0.0303, 0.3016, 0.1264, 0.1826, 0.1178],\n",
            "        [0.0476, 0.4743, 0.1988, 0.2871, 0.1852],\n",
            "        [0.0529, 0.5269, 0.2209, 0.3190, 0.2057],\n",
            "        [0.0586, 0.5837, 0.2447, 0.3534, 0.2279],\n",
            "        [0.0796, 0.7934, 0.3326, 0.4803, 0.3098]])\n"
          ]
        },
        {
          "output_type": "display_data",
          "data": {
            "text/plain": [
              "<Figure size 500x500 with 4 Axes>"
            ],
            "image/png": "[encoded data removed]"
          },
          "metadata": {
            "needs_background": "light"
          }
        }
      ],
      "source": [
        "import torch\n",
        "from matplotlib import pyplot as plt\n",
        "\n",
        "# Make an array of normally distributed randoms.\n",
        "m = torch.randn(2, 5).abs()\n",
        "print(f'm is {m}, and m[1,2] is {m[1,2]}\\n')\n",
        "print(f'column zero, m[:,0] is {m[:,0]}')\n",
        "print(f'row zero m[0,:] is {m[0,:]}\\n')\n",
        "dot_product = (m[0,:] * m[1,:]).sum()\n",
        "print(f'The dot product of rows (m[0,:] * m[1,:]).sum() is {dot_product}\\n')\n",
        "outer_product = m[0,:][None,:] * m[1,:][:,None]\n",
        "print(f'The outer product of rows m[0,:][None,:] * m[1,:][:,None] is:\\n{outer_product}')\n",
        "\n",
        "fig, ((ax1, ax2), (ax3, ax4)) = plt.subplots(2, 2, figsize=(5, 5), dpi=100)\n",
        "def color_mat(ax, m, title):\n",
        "    ax.set_title(title)\n",
        "    ax.imshow(m, cmap='hot', vmax=1.5, interpolation='nearest')\n",
        "    ax.get_xaxis().set_ticks(range(m.shape[1]))\n",
        "    ax.get_yaxis().set_ticks(range(m.shape[0]))\n",
        "color_mat(ax1, m, 'm[:,:]')\n",
        "color_mat(ax2, m[0,:][None,:], 'm[0,:][None,:]')\n",
        "color_mat(ax3, m[1,:][:,None], 'm[1,:][:,None]')\n",
        "color_mat(ax4, outer_product, 'm[0,:][None,:] * m[1,:][:,None]')\n",
        "fig.tight_layout()\n",
        "fig.show()"
      ]
    },
    {
      "cell_type": "code",
      "source": [
        "print(m[0,:])\n",
        "print(m[0,:][None,:])\n",
        "print(m[1,:][:,None])"
      ],
      "metadata": {
        "colab": {
          "base_uri": "https://localhost:8080/"
        },
        "id": "r3W1vMH_Kr6H",
        "outputId": "c09888ab-dc6e-46c3-ee24-a6ec81b7d064"
      },
      "execution_count": 51,
      "outputs": [
        {
          "output_type": "stream",
          "name": "stdout",
          "text": [
            "tensor([0.0793, 0.7899, 0.3311, 0.4782, 0.3084])\n",
            "tensor([[0.0793, 0.7899, 0.3311, 0.4782, 0.3084]])\n",
            "tensor([[0.3818],\n",
            "        [0.6004],\n",
            "        [0.6670],\n",
            "        [0.7390],\n",
            "        [1.0044]])\n"
          ]
        }
      ]
    },
    {
      "cell_type": "code",
      "source": [
        "x = 0.7899 * 0.3818\n",
        "x"
      ],
      "metadata": {
        "colab": {
          "base_uri": "https://localhost:8080/"
        },
        "id": "Dqhxrr22hp5U",
        "outputId": "71e97c84-12a1-468d-b87d-e0d9d55a9422"
      },
      "execution_count": 53,
      "outputs": [
        {
          "output_type": "execute_result",
          "data": {
            "text/plain": [
              "0.30158382"
            ]
          },
          "metadata": {},
          "execution_count": 53
        }
      ]
    },
    {
      "cell_type": "markdown",
      "metadata": {
        "id": "a7iRK-iES-wU"
      },
      "source": [
        "### Exercise\n",
        "\n",
        "Use `torch.mm` to compute `outer_product` and `dot_product`.\n",
        "\n",
        "Explain to yourself why order matters when using torch.mm but not when using `*`. "
      ]
    },
    {
      "cell_type": "code",
      "source": [
        "print(m[0,:][None,:].shape)\n",
        "print(torch.transpose(m[0,:][None,:],0,1).shape)"
      ],
      "metadata": {
        "colab": {
          "base_uri": "https://localhost:8080/"
        },
        "id": "OHC4DFzVaAKY",
        "outputId": "779a1e4e-a929-47f3-ffa2-e04bc7eb2abf"
      },
      "execution_count": 35,
      "outputs": [
        {
          "output_type": "stream",
          "name": "stdout",
          "text": [
            "torch.Size([1, 5])\n",
            "torch.Size([5, 1])\n"
          ]
        }
      ]
    },
    {
      "cell_type": "code",
      "execution_count": 54,
      "metadata": {
        "colab": {
          "base_uri": "https://localhost:8080/"
        },
        "id": "vmCrZ3MrS-wU",
        "outputId": "503eb76d-9490-479d-c9da-e83f25143895"
      },
      "outputs": [
        {
          "output_type": "stream",
          "name": "stdout",
          "text": [
            "tensor([[True, True, True, True, True],\n",
            "        [True, True, True, True, True],\n",
            "        [True, True, True, True, True],\n",
            "        [True, True, True, True, True],\n",
            "        [True, True, True, True, True]])\n",
            "tensor([[True]])\n"
          ]
        }
      ],
      "source": [
        "# TODO Use torch.mm to compute outer_product and dot_product.\n",
        "\n",
        "outer = torch.mm(m[1,:][:,None], m[0,:][None,:])\n",
        "\n",
        "#outer = torch.outer(m[1,:], m[0,:])\n",
        "print(outer == outer_product)\n",
        "dot = torch.mm(m[1,:][None,:], m[0,:][:,None])\n",
        "print(dot == dot_product)"
      ]
    },
    {
      "cell_type": "markdown",
      "metadata": {
        "id": "ax-llpVHS-wU"
      },
      "source": [
        "Devices and types\n",
        "-----------------\n",
        "\n",
        "One of the big reasons to use pytorch instead of numpy is that pytorch can do computations on the GPU.  But because moving data on and off of a GPU device is more expensive than keeping it within the device, pytorch treats a Tensor's **computing device** as pseudo-type that requires explicit declaration and explicit conversion.  Here are some things to know about pytorch devices and types:\n",
        "\n",
        "**Single precision CPU default.** By default a torch tensor will be stored on the CPU and will store single-precision 32-bit `torch.float` values.\n",
        "\n",
        "**Specifying data type.** To store a different data type such as integers, use the argument `dtype=torch.long` when you create the Tensor.  For example, `z = torch.zeros(10, dtype=torch.long)`.  This is similar to numpy with minor differences.  See the [Tensor reference](https://pytorch.org/docs/stable/tensors.html) for all the types.\n",
        "\n",
        "**Specifying GPU.** To store the tensor on the GPU, specify `device='cuda'` when you make it, for example `identity_matrix = torch.eye(5, device='cuda')`.  (Instead `device='cpu'` indicates the default CPU storage).\n",
        "\n",
        "Even on a multi-GPU machine it is fine to pretend there is only one GPU.  Setting the environment variable `CUDA_VISIBLE_DEVICES=3` before you start the program will set up the process to see GPU\\#3 as the only visible GPU when it runs.\n",
        "\n",
        "As an aside, in principle you could instead target one of many GPUs with `device='cuda:3'`, but if you want to use multiple GPUs for the same computation your best bet is to a use a multiprocess utility class that manages data distribution between forked processes automatically, while each python process touches only one GPU.  When this becomes an issue, read the [DistributedDataParalllel docs](https://pytorch.org/docs/stable/distributed.html).\n",
        "\n",
        "**Copying a tensor to a different device or type.** You cannot directly combine tensors that are on different devices (e.g., GPU vs CPU or different GPUs); this is similar to how most different-data-type combinations are also prohibited. In both cases you will need to convert types and move devices explicitly to make tensors compatible before combining them.  The `x.to(y.device)` or `x.to(y.dtype)` function can be used to do the conversion.\n",
        "\n",
        "There are also commonly-used convenience synonyms `x.cpu()`, `x.cuda()`, `x.float()`, `x.long()`, etc. for making a copy of `x` with the specified device or type.  There is a bit of cost, so move data only when needed.\n",
        "\n",
        "**GPU rounding is nondeterministic.** Computationally the GPU is **not** perfectly equivalent to the CPU.  To speed parallelization, the GPU does not do associative operations such as summations in a deterministic sequential order.  Since changing the order of summations can alter rounding behavior in fixed-precision arithmetic, GPU rounding can be  different from CPU results an even nondeterministic.  When the numerical algorithm is well-behaved, the difference should be small enough that you do not care, but you should know it is different. You can see this gap in the code example below.\n",
        "\n",
        "**float is fastest.** All commodity GPU hardware is fast at single-precision 32-bit floating-point math, about 20x CPU speed.  Be aware that only expensive cards are fast at 64-bit double-precision math. If you change `torch.float` in the below example to `torch.double` on an Nvidia Titan or consumer card without hardware double-precision support, you will slow down to just-slightly-faster-than-CPU speeds.  Similarly 16-bit `torch.half` or `torch.bfloat16` or other cool options will only be faster on newer hardware, and with these data types you need to take care that the reduced precision is not damaging your results.\n",
        "\n",
        "So `float` is the default and usually the best.\n",
        "\n",
        "Also note that some operations (like linear algebra) are floating-point only and cannot be done on integers.\n",
        "\n",
        "An example of some CPU versus GPU speed comparisons is below."
      ]
    },
    {
      "cell_type": "code",
      "execution_count": 55,
      "metadata": {
        "colab": {
          "base_uri": "https://localhost:8080/",
          "height": 430
        },
        "id": "wKc4TOqjS-wV",
        "outputId": "a05fc994-8623-4a25-964e-df02cf8a934a"
      },
      "outputs": [
        {
          "output_type": "stream",
          "name": "stdout",
          "text": [
            "time using the CPU alone: 10.1 seconds\n",
            "time using GPU, moving data from CPU: 2.93 seconds\n",
            "time using GPU on pinned CPU memory: 0.232 seconds\n",
            "time using the GPU alone: 0.152 seconds\n"
          ]
        },
        {
          "output_type": "display_data",
          "data": {
            "text/plain": [
              "<Figure size 600x300 with 1 Axes>"
            ],
            "image/png": "[encoded data removed]"
          },
          "metadata": {
            "needs_background": "light"
          }
        },
        {
          "output_type": "stream",
          "name": "stdout",
          "text": [
            "Your GPU is 66.3x faster than CPU but only 3.45x if data is repeatedly copied from the CPU\n",
            "When copying from pinned memory, speedup is 43.6x\n",
            "Numerical differences between GPU and CPU: 6.089336466175155e-07\n"
          ]
        }
      ],
      "source": [
        "import torch, time\n",
        "from matplotlib import pyplot as plt\n",
        "\n",
        "# Here is a demonstration of moving data between GPU and CPU.\n",
        "# We multiply a batch of vectors through a big linear opeation 10 times\n",
        "r = torch.randn(1024, 1024, dtype=torch.float)\n",
        "x = torch.randn(32768, 1024, dtype=r.dtype)\n",
        "iterations = 10\n",
        "\n",
        "def time_iterated_mm(x, matrix):\n",
        "    start = time.time()\n",
        "    result = 0\n",
        "    for i in range(iterations):\n",
        "        result += torch.mm(matrix, x.to(matrix.device).t())\n",
        "    torch.cuda.synchronize()\n",
        "    elapsed = time.time() - start\n",
        "    return elapsed, result.cpu()\n",
        "\n",
        "cpu_time, cpu_result = time_iterated_mm(x.cpu(), r.cpu())\n",
        "print(f'time using the CPU alone: {cpu_time:.3g} seconds')\n",
        "\n",
        "mixed_time, mixed_result = time_iterated_mm(x.cpu(), r.cuda())\n",
        "print(f'time using GPU, moving data from CPU: {mixed_time:.3g} seconds')\n",
        "\n",
        "pinned_time, pinned_result = time_iterated_mm(x.cpu().pin_memory(), r.cuda())\n",
        "#pinned memory fastens the memory copy operation from cpu to gpu, which is done\n",
        "#in the above function\n",
        "print(f'time using GPU on pinned CPU memory: {pinned_time:.3g} seconds')\n",
        "\n",
        "gpu_time, gpu_result = time_iterated_mm(x.cuda(), r.cuda())\n",
        "print(f'time using the GPU alone: {gpu_time:.3g} seconds')\n",
        "\n",
        "plt.figure(figsize=(4,2), dpi=150)\n",
        "plt.ylabel('iterations per sec')\n",
        "plt.bar(['cpu', 'mixed', 'pinned', 'gpu'],\n",
        "        [iterations/cpu_time,\n",
        "         iterations/mixed_time,\n",
        "         iterations/pinned_time,\n",
        "         iterations/gpu_time])\n",
        "plt.show()\n",
        "\n",
        "print(f'Your GPU is {cpu_time / gpu_time:.3g}x faster than CPU'\n",
        "      f' but only {cpu_time / mixed_time:.3g}x if data is repeatedly copied from the CPU')\n",
        "print(f'When copying from pinned memory, speedup is {cpu_time / pinned_time:.3g}x')\n",
        "print(f'Numerical differences between GPU and CPU: {(cpu_result - gpu_result).norm() / cpu_result.norm()}')"
      ]
    },
    {
      "cell_type": "markdown",
      "metadata": {
        "id": "wOqJezAdS-wV"
      },
      "source": [
        "### Exercise\n",
        "\n",
        "Repeat the benchmark using type `torch.double`.   What does that tell you about your GPU hardware?"
      ]
    },
    {
      "cell_type": "code",
      "execution_count": 56,
      "metadata": {
        "colab": {
          "base_uri": "https://localhost:8080/",
          "height": 430
        },
        "id": "X6YMMDyRS-wV",
        "outputId": "8cdc281a-45ed-4b06-cc5e-00fa8d1818f1"
      },
      "outputs": [
        {
          "output_type": "stream",
          "name": "stdout",
          "text": [
            "time using the CPU alone: 20.7 seconds\n",
            "time using GPU, moving data from CPU: 3.48 seconds\n",
            "time using GPU on pinned CPU memory: 2.96 seconds\n",
            "time using the GPU alone: 2.74 seconds\n"
          ]
        },
        {
          "output_type": "display_data",
          "data": {
            "text/plain": [
              "<Figure size 600x300 with 1 Axes>"
            ],
            "image/png": "[encoded data removed]"
          },
          "metadata": {
            "needs_background": "light"
          }
        },
        {
          "output_type": "stream",
          "name": "stdout",
          "text": [
            "Your GPU is 7.56x faster than CPU but only 5.96x if data is repeatedly copied from the CPU\n",
            "When copying from pinned memory, speedup is 6.99x\n",
            "Numerical differences between GPU and CPU: 1.134851629906317e-15\n"
          ]
        }
      ],
      "source": [
        "import torch, time\n",
        "from matplotlib import pyplot as plt\n",
        "\n",
        "# Here is a demonstration of moving data between GPU and CPU.\n",
        "# We multiply a batch of vectors through a big linear opeation 10 times\n",
        "r = torch.randn(1024, 1024, dtype=torch.double)\n",
        "x = torch.randn(32768, 1024, dtype=r.dtype)\n",
        "iterations = 10\n",
        "\n",
        "def time_iterated_mm(x, matrix):\n",
        "    start = time.time()\n",
        "    result = 0\n",
        "    for i in range(iterations):\n",
        "        result += torch.mm(matrix, x.to(matrix.device).t())\n",
        "    torch.cuda.synchronize()\n",
        "    elapsed = time.time() - start\n",
        "    return elapsed, result.cpu()\n",
        "\n",
        "cpu_time, cpu_result = time_iterated_mm(x.cpu(), r.cpu())\n",
        "print(f'time using the CPU alone: {cpu_time:.3g} seconds')\n",
        "\n",
        "mixed_time, mixed_result = time_iterated_mm(x.cpu(), r.cuda())\n",
        "print(f'time using GPU, moving data from CPU: {mixed_time:.3g} seconds')\n",
        "\n",
        "pinned_time, pinned_result = time_iterated_mm(x.cpu().pin_memory(), r.cuda())\n",
        "#pinned memory fastens the memory copy operation from cpu to gpu, which is done\n",
        "#in the above function\n",
        "print(f'time using GPU on pinned CPU memory: {pinned_time:.3g} seconds')\n",
        "\n",
        "gpu_time, gpu_result = time_iterated_mm(x.cuda(), r.cuda())\n",
        "print(f'time using the GPU alone: {gpu_time:.3g} seconds')\n",
        "\n",
        "plt.figure(figsize=(4,2), dpi=150)\n",
        "plt.ylabel('iterations per sec')\n",
        "plt.bar(['cpu', 'mixed', 'pinned', 'gpu'],\n",
        "        [iterations/cpu_time,\n",
        "         iterations/mixed_time,\n",
        "         iterations/pinned_time,\n",
        "         iterations/gpu_time])\n",
        "plt.show()\n",
        "\n",
        "print(f'Your GPU is {cpu_time / gpu_time:.3g}x faster than CPU'\n",
        "      f' but only {cpu_time / mixed_time:.3g}x if data is repeatedly copied from the CPU')\n",
        "print(f'When copying from pinned memory, speedup is {cpu_time / pinned_time:.3g}x')\n",
        "print(f'Numerical differences between GPU and CPU: {(cpu_result - gpu_result).norm() / cpu_result.norm()}')"
      ]
    },
    {
      "cell_type": "markdown",
      "metadata": {
        "id": "DoOHhq47S-wW"
      },
      "source": [
        "Performance tips\n",
        "----------------\n",
        "\n",
        "**GPU operations are async.** When pytorch operates on GPU tensors, the python code does not wait for computations to complete. Sp GPU calculations get queued up, and they will be done as quickly as possible in the background while your python is free to work on other things like loading the next batch of training data.\n",
        "\n",
        "**Moving data to cpu waits for computations.** You do not need to worry about the GPU asynchrony, because as soon as you actually ask to look at the data, e.g., when you move GPU data to CPU (or print it or save it), pytorch will block and wait for the GPU operations to finish computing what you need before proceeding. The call seen above to `torch.cuda.synchronize()` flushes the GPU queue without requesting the data, but you will not need to do this unless you are doing performance timing.\n",
        "\n",
        "**Pinned memory transfers are async and faster.** Copying data from CPU to GPU can be sped up if the CPU data is put in pinned memory (i.e., at a fixed non-swappable block of RAM).  Therefore when data loaders gather together lots of CPU data that is destined for the GPU, they should be configured to stream their results into pinned memory. See the performance comparison above."
      ]
    },
    {
      "cell_type": "markdown",
      "metadata": {
        "id": "GFP0cqkWS-wW"
      },
      "source": [
        "pytorch Tensor dimension-ordering conventions\n",
        "---------------------------------------------\n",
        "\n",
        "**Multidimensional data convention.** As soon as you have more than one dimension, you need to decide how to order the axes.  To reduce confusion, most data processing follows the same global convention. In particular, much image-related data in pytorch is four dimensional, and the dimensions are ordered like this: `data[batch_index, channel_index, y_position, x_position]`, that is:\n",
        "\n",
        "* Dimension 0 is used to index separate images within a batch.\n",
        "* Dimension 1 indexes channels within an image representation (e.g., 0,1,2 = R,G,B, or more dims for more channels).\n",
        "* Dimension 2 (if present) indexes the row position (y-value, starting from the top)\n",
        "* Dimension 3 (if present) indexes the column position (x-value, starting from the left)\n",
        "\n",
        "There a way to remember this ordering: adjacent entries that vary only in the last dimensions are stored physically closer in RAM; since they are often combined with each other, this could help with locality, whereas the first (batch) dimension usually just groups separate independent data points which are not combined much, so they do not need to be physically close.\n",
        "\n",
        "Stream-oriented data without grid geometry will drop the last dimensions, and 3d grid data will be 5-dimensional, adding a depth z before y.  This same 4d-axis ordering convention is also seen in caffe and tensorflow.\n",
        "\n",
        "Separate tensors can be put together into a single batch tensor using `torch.cat([a, b, c])` or `torch.stack([a, b, c])`.  (The difference: `cat` doesn't add any new dimensions but just concatenates along the existing 0th dimension.  `stack` adds a new 0th dimension for the batch.)\n",
        "\n",
        "**Multidimensional linear operation convention.** When storing matrix weights or convolution weights, linear algebra conventions are followed\n",
        "* Dimension 0 (number of rows) matches the output channel dimension\n",
        "* Dimension 1 (number of columns) matches the input channel dimension\n",
        "* Dimension 2 (if present) is the convolutional kernel y-dimension\n",
        "* Dimension 3 (if present) is the convolutional kernel x-dimension\n",
        "\n",
        "Since this convention assumes channels are arranged in different rows whereas the data convention puts different batch items in different rows, some axis transposition is often needed before applying linear algebra to the data.\n",
        "\n",
        "**Permute and view reshape an array without moving memory.** The `permute` and `view` methods are useful for rearranging, flattening, and unflatteneing axes. `x.permute(1,0,2,3).view(x.shape[1], -1)`.  They just alter the view of the block of numbers in memory without moving any of the numbers around, so they are fast.\n",
        "\n",
        "**Reshaping sometimes needs copying.** Some sequences of axis permutations and flattenings cannot be done without copying the data into the new order in memory; the `x.contiguous()` method copies the data into the natural order given by the current view; also `x.reshape()` is similar to `view` but will makea copy if necessary so you do not need to think about it.  See [the Tensor.view method documentation](https://pytorch.org/docs/master/tensors.html#torch.Tensor.view).\n"
      ]
    },
    {
      "cell_type": "markdown",
      "metadata": {
        "id": "ySmZMS1xS-wW"
      },
      "source": [
        "### Exercise\n",
        "\n",
        "Use `torch.randn` to create a four-dimensional tensor `x` of size (2,3,4,5), which could store two 5x4 RGB images.\n",
        "\n",
        "Then print three things:\n",
        " * print `x`.\n",
        " * Use `x.permute` to switch the horizontal and vertical (last two) dimensions.\n",
        " * Use `x.view` to see each image as a flat vector of 60 numbers."
      ]
    },
    {
      "cell_type": "code",
      "execution_count": 66,
      "metadata": {
        "colab": {
          "base_uri": "https://localhost:8080/"
        },
        "id": "9zKxidRlS-wW",
        "outputId": "9ad4748f-01fd-4893-f278-320f0049059a"
      },
      "outputs": [
        {
          "output_type": "stream",
          "name": "stdout",
          "text": [
            "tensor([[[[-0.8068,  0.2143, -0.0470, -1.0362, -0.1712],\n",
            "          [-0.2557,  0.4968,  1.0455, -1.1886,  0.8893],\n",
            "          [-0.0789, -0.7642, -1.2580, -0.9880, -0.5672],\n",
            "          [ 1.7644,  1.4911, -0.6333, -0.7613, -0.9925]],\n",
            "\n",
            "         [[ 0.3578,  0.1050, -0.5972, -0.5513, -1.8206],\n",
            "          [-0.0586,  0.0938,  0.0309, -0.9118, -1.1481],\n",
            "          [-1.0242, -0.5408,  0.0521,  1.2025,  0.3983],\n",
            "          [ 0.3550, -0.1217,  1.9024,  0.3372, -0.2647]],\n",
            "\n",
            "         [[-0.8423,  0.8129,  0.3415,  1.5273,  0.3944],\n",
            "          [ 0.3424, -0.6074, -0.7416,  1.0262,  2.1310],\n",
            "          [-0.2740, -0.8368, -1.0312,  0.7927, -0.2743],\n",
            "          [-0.0174,  0.4478, -1.7244, -0.3567,  0.5952]]],\n",
            "\n",
            "\n",
            "        [[[ 0.6347,  0.5672,  0.7379,  0.2021,  0.4261],\n",
            "          [-0.1084, -1.0464, -0.6254,  0.4659,  0.2715],\n",
            "          [ 0.3802,  0.8108, -1.2224, -0.7904, -1.3831],\n",
            "          [ 1.0577,  0.7782,  0.3859,  0.2114, -0.2067]],\n",
            "\n",
            "         [[-1.4880,  0.4681,  0.9974,  0.8369,  0.4298],\n",
            "          [ 0.1250,  0.3287,  0.7945,  0.1755, -0.0362],\n",
            "          [-1.3276, -1.4240, -0.7410,  0.7574,  1.8203],\n",
            "          [-0.0075,  1.1029, -1.1499,  0.1951,  0.3440]],\n",
            "\n",
            "         [[ 0.5342, -0.1207,  2.1754, -1.3563, -0.0238],\n",
            "          [ 1.2183, -0.3036,  0.5965,  0.2290,  0.0901],\n",
            "          [ 0.7889,  0.6145, -0.6264, -0.8461, -0.4913],\n",
            "          [-0.6806,  0.4743,  0.9040,  0.3829, -0.6123]]]])\n",
            "tensor([[[[-0.8068, -0.2557, -0.0789,  1.7644],\n",
            "          [ 0.2143,  0.4968, -0.7642,  1.4911],\n",
            "          [-0.0470,  1.0455, -1.2580, -0.6333],\n",
            "          [-1.0362, -1.1886, -0.9880, -0.7613],\n",
            "          [-0.1712,  0.8893, -0.5672, -0.9925]],\n",
            "\n",
            "         [[ 0.3578, -0.0586, -1.0242,  0.3550],\n",
            "          [ 0.1050,  0.0938, -0.5408, -0.1217],\n",
            "          [-0.5972,  0.0309,  0.0521,  1.9024],\n",
            "          [-0.5513, -0.9118,  1.2025,  0.3372],\n",
            "          [-1.8206, -1.1481,  0.3983, -0.2647]],\n",
            "\n",
            "         [[-0.8423,  0.3424, -0.2740, -0.0174],\n",
            "          [ 0.8129, -0.6074, -0.8368,  0.4478],\n",
            "          [ 0.3415, -0.7416, -1.0312, -1.7244],\n",
            "          [ 1.5273,  1.0262,  0.7927, -0.3567],\n",
            "          [ 0.3944,  2.1310, -0.2743,  0.5952]]],\n",
            "\n",
            "\n",
            "        [[[ 0.6347, -0.1084,  0.3802,  1.0577],\n",
            "          [ 0.5672, -1.0464,  0.8108,  0.7782],\n",
            "          [ 0.7379, -0.6254, -1.2224,  0.3859],\n",
            "          [ 0.2021,  0.4659, -0.7904,  0.2114],\n",
            "          [ 0.4261,  0.2715, -1.3831, -0.2067]],\n",
            "\n",
            "         [[-1.4880,  0.1250, -1.3276, -0.0075],\n",
            "          [ 0.4681,  0.3287, -1.4240,  1.1029],\n",
            "          [ 0.9974,  0.7945, -0.7410, -1.1499],\n",
            "          [ 0.8369,  0.1755,  0.7574,  0.1951],\n",
            "          [ 0.4298, -0.0362,  1.8203,  0.3440]],\n",
            "\n",
            "         [[ 0.5342,  1.2183,  0.7889, -0.6806],\n",
            "          [-0.1207, -0.3036,  0.6145,  0.4743],\n",
            "          [ 2.1754,  0.5965, -0.6264,  0.9040],\n",
            "          [-1.3563,  0.2290, -0.8461,  0.3829],\n",
            "          [-0.0238,  0.0901, -0.4913, -0.6123]]]])\n",
            "tensor([[-0.8068,  0.2143, -0.0470, -1.0362, -0.1712, -0.2557,  0.4968,  1.0455,\n",
            "         -1.1886,  0.8893, -0.0789, -0.7642, -1.2580, -0.9880, -0.5672,  1.7644,\n",
            "          1.4911, -0.6333, -0.7613, -0.9925,  0.3578,  0.1050, -0.5972, -0.5513,\n",
            "         -1.8206, -0.0586,  0.0938,  0.0309, -0.9118, -1.1481, -1.0242, -0.5408,\n",
            "          0.0521,  1.2025,  0.3983,  0.3550, -0.1217,  1.9024,  0.3372, -0.2647,\n",
            "         -0.8423,  0.8129,  0.3415,  1.5273,  0.3944,  0.3424, -0.6074, -0.7416,\n",
            "          1.0262,  2.1310, -0.2740, -0.8368, -1.0312,  0.7927, -0.2743, -0.0174,\n",
            "          0.4478, -1.7244, -0.3567,  0.5952],\n",
            "        [ 0.6347,  0.5672,  0.7379,  0.2021,  0.4261, -0.1084, -1.0464, -0.6254,\n",
            "          0.4659,  0.2715,  0.3802,  0.8108, -1.2224, -0.7904, -1.3831,  1.0577,\n",
            "          0.7782,  0.3859,  0.2114, -0.2067, -1.4880,  0.4681,  0.9974,  0.8369,\n",
            "          0.4298,  0.1250,  0.3287,  0.7945,  0.1755, -0.0362, -1.3276, -1.4240,\n",
            "         -0.7410,  0.7574,  1.8203, -0.0075,  1.1029, -1.1499,  0.1951,  0.3440,\n",
            "          0.5342, -0.1207,  2.1754, -1.3563, -0.0238,  1.2183, -0.3036,  0.5965,\n",
            "          0.2290,  0.0901,  0.7889,  0.6145, -0.6264, -0.8461, -0.4913, -0.6806,\n",
            "          0.4743,  0.9040,  0.3829, -0.6123]])\n"
          ]
        }
      ],
      "source": [
        "# TODO make x of size (2,3,4,5), and print three rearrangements of x\n",
        "x = torch.randn(2, 3, 4, 5)\n",
        "print(x)\n",
        "print(x.permute(0,1,3,2))\n",
        "print(x.view(2,60))"
      ]
    },
    {
      "cell_type": "markdown",
      "metadata": {
        "id": "eBLiEERuS-wX"
      },
      "source": [
        "## Special topic: einsum notation\n",
        "\n",
        "Matrix multiplication can be generalized to tensors of arbitrary number of dimensions, but keeping tensor dimensions straight can be confusing.  The solution to this is [Einstein notation](https://en.wikipedia.org/wiki/Einstein_notation): assign letter variables to each axis of the input tensors, and then explicitly write down which axes end up in the output tensor.  For example, an outer product might be written as `i, j -> ij`, whereas matrix multiplication could be `ij, jk -> ik`.\n",
        "\n",
        "Einstein notation is a topic of active development and programming language design: [here is a recent paper on the history and future of Einstein APIs.](https://openreview.net/pdf?id=oapKSVM2bcj)\n",
        "\n",
        "\n",
        "In pytorch, Einstein notation is available as `einsum`.  Here is how ordinary matrix multiplication looks as einsum:"
      ]
    },
    {
      "cell_type": "code",
      "execution_count": 67,
      "metadata": {
        "colab": {
          "base_uri": "https://localhost:8080/"
        },
        "id": "_Ut_3cgDS-wX",
        "outputId": "599d6570-a4d5-4815-ba4b-9c23b298de48"
      },
      "outputs": [
        {
          "output_type": "stream",
          "name": "stdout",
          "text": [
            "tensor([[-0.2300, -0.8624, -2.2039],\n",
            "        [-0.5469, -0.0145, -2.6321]])\n"
          ]
        }
      ],
      "source": [
        "A = torch.randn(2,5)\n",
        "B = torch.randn(5,3)\n",
        "\n",
        "# Uncomment to see ordinary matrix multiplication\n",
        "# print(torch.mm(A, B))\n",
        "\n",
        "# Ordinary matrix multiplication written as an einsum\n",
        "print(torch.einsum('ij, jk -> ik', A, B))"
      ]
    },
    {
      "cell_type": "markdown",
      "metadata": {
        "id": "04EQGkr6S-wX"
      },
      "source": [
        "### Exercise\n",
        "\n",
        "Make A in the shape (5, 6, 2) and B in the shape (5, 6, 3); we can think of A as a 5x6 grid of 2-dimensional vectors and B as a 5x6 of 3-dimesnsional vectors.\n",
        "\n",
        "Covariances (un-normalized) of vectors in A and B could be computed by flattening and transposing the tensors into (2,30) and (30,3) matrices and then doing a matrix multiplication of these batches as follows:\n",
        "\n",
        "```\n",
        "print(torch.mm(A.reshape(30, 2).t(), B.reshape(30, 3)))\n",
        "```\n",
        "\n",
        "Instead use einsum to compute the same thing.\n"
      ]
    },
    {
      "cell_type": "code",
      "execution_count": 68,
      "metadata": {
        "colab": {
          "base_uri": "https://localhost:8080/"
        },
        "id": "1ih3f7XYS-wX",
        "outputId": "5515acae-2f35-42a1-b4c8-9d39f63aaeaa"
      },
      "outputs": [
        {
          "output_type": "stream",
          "name": "stdout",
          "text": [
            "tensor([[ 9.4648,  0.4210, -1.8114],\n",
            "        [-1.3949, -0.5497,  7.0779]])\n"
          ]
        }
      ],
      "source": [
        "# TODO: use einsum to compute a covariance statistic over vectors in A and B.\n",
        "A = torch.randn(5,6,2)\n",
        "B = torch.randn(5,6,3)\n",
        "\n",
        "\n",
        "print(torch.mm(A.reshape(30, 2).t(), B.reshape(30, 3)))\n"
      ]
    },
    {
      "cell_type": "markdown",
      "metadata": {
        "id": "2pyM4QeRS-wY"
      },
      "source": [
        "### [On to topic 2: Autograd &rightarrow;](2-Pytorch-Autograd.ipynb)"
      ]
    }
  ],
  "metadata": {
    "accelerator": "GPU",
    "kernelspec": {
      "display_name": "Python 3 (ipykernel)",
      "language": "python",
      "name": "python3"
    },
    "language_info": {
      "codemirror_mode": {
        "name": "ipython",
        "version": 3
      },
      "file_extension": ".py",
      "mimetype": "text/x-python",
      "name": "python",
      "nbconvert_exporter": "python",
      "pygments_lexer": "ipython3",
      "version": "3.9.9"
    },
    "colab": {
      "provenance": [],
      "include_colab_link": true
    }
  },
  "nbformat": 4,
  "nbformat_minor": 0
}