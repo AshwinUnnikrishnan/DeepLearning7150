{
  "cells": [
    {
      "cell_type": "markdown",
      "metadata": {
        "id": "view-in-github",
        "colab_type": "text"
      },
      "source": [
        "<a href=\"https://colab.research.google.com/github/AshwinUnnikrishnan/DeepLearning7150/blob/main/HW3/HW3_1_Classifiers.ipynb\" target=\"_parent\"><img src=\"https://colab.research.google.com/assets/colab-badge.svg\" alt=\"Open In Colab\"/></a>"
      ]
    },
    {
      "cell_type": "markdown",
      "id": "4852575e",
      "metadata": {
        "id": "4852575e"
      },
      "source": [
        "This can be [run on Google Colab using this link](https://colab.research.google.com/github/CS7150/CS7150-Homework-3/blob/main/HW3.1-Classifiers.ipynb)"
      ]
    },
    {
      "cell_type": "markdown",
      "source": [
        "Translation and Weight Xavier"
      ],
      "metadata": {
        "id": "7lBOPnsyNmAR"
      },
      "id": "7lBOPnsyNmAR"
    },
    {
      "cell_type": "markdown",
      "id": "4dd40e9d",
      "metadata": {
        "id": "4dd40e9d"
      },
      "source": [
        "### MNIST Classifiers (Convolutional Neural Networks and Fully Connected Networks)"
      ]
    },
    {
      "cell_type": "markdown",
      "id": "ea20290e",
      "metadata": {
        "id": "ea20290e"
      },
      "source": [
        "<b>Optional</b>: Installing Wandb to see cool analysis of you code. You can go through the documentation here. We will do it for this assignment to get a taste of the GPU and CPU utilizations. If this is creating problems to your code, please comment out all the wandb lines from the notebook "
      ]
    },
    {
      "cell_type": "code",
      "execution_count": 1,
      "id": "0f63cd31",
      "metadata": {
        "id": "0f63cd31",
        "outputId": "8e8e34c8-9ad9-4841-df83-d00ae0f5ef98",
        "colab": {
          "base_uri": "https://localhost:8080/"
        }
      },
      "outputs": [
        {
          "output_type": "stream",
          "name": "stdout",
          "text": [
            "Looking in indexes: https://pypi.org/simple, https://us-python.pkg.dev/colab-wheels/public/simple/\n",
            "Collecting wandb\n",
            "  Downloading wandb-0.13.4-py2.py3-none-any.whl (1.9 MB)\n",
            "\u001b[K     |████████████████████████████████| 1.9 MB 27.3 MB/s \n",
            "\u001b[?25hRequirement already satisfied: psutil>=5.0.0 in /usr/local/lib/python3.7/dist-packages (from wandb) (5.4.8)\n",
            "Collecting setproctitle\n",
            "  Downloading setproctitle-1.3.2-cp37-cp37m-manylinux_2_5_x86_64.manylinux1_x86_64.manylinux_2_17_x86_64.manylinux2014_x86_64.whl (30 kB)\n",
            "Requirement already satisfied: protobuf!=4.0.*,!=4.21.0,<5,>=3.12.0 in /usr/local/lib/python3.7/dist-packages (from wandb) (3.17.3)\n",
            "Requirement already satisfied: promise<3,>=2.0 in /usr/local/lib/python3.7/dist-packages (from wandb) (2.3)\n",
            "Requirement already satisfied: setuptools in /usr/local/lib/python3.7/dist-packages (from wandb) (57.4.0)\n",
            "Requirement already satisfied: PyYAML in /usr/local/lib/python3.7/dist-packages (from wandb) (6.0)\n",
            "Collecting shortuuid>=0.5.0\n",
            "  Downloading shortuuid-1.0.9-py3-none-any.whl (9.4 kB)\n",
            "Requirement already satisfied: Click!=8.0.0,>=7.0 in /usr/local/lib/python3.7/dist-packages (from wandb) (7.1.2)\n",
            "Collecting pathtools\n",
            "  Downloading pathtools-0.1.2.tar.gz (11 kB)\n",
            "Requirement already satisfied: requests<3,>=2.0.0 in /usr/local/lib/python3.7/dist-packages (from wandb) (2.23.0)\n",
            "Collecting GitPython>=1.0.0\n",
            "  Downloading GitPython-3.1.29-py3-none-any.whl (182 kB)\n",
            "\u001b[K     |████████████████████████████████| 182 kB 64.7 MB/s \n",
            "\u001b[?25hCollecting sentry-sdk>=1.0.0\n",
            "  Downloading sentry_sdk-1.9.10-py2.py3-none-any.whl (162 kB)\n",
            "\u001b[K     |████████████████████████████████| 162 kB 60.0 MB/s \n",
            "\u001b[?25hRequirement already satisfied: six>=1.13.0 in /usr/local/lib/python3.7/dist-packages (from wandb) (1.15.0)\n",
            "Collecting docker-pycreds>=0.4.0\n",
            "  Downloading docker_pycreds-0.4.0-py2.py3-none-any.whl (9.0 kB)\n",
            "Requirement already satisfied: typing-extensions>=3.7.4.3 in /usr/local/lib/python3.7/dist-packages (from GitPython>=1.0.0->wandb) (4.1.1)\n",
            "Collecting gitdb<5,>=4.0.1\n",
            "  Downloading gitdb-4.0.9-py3-none-any.whl (63 kB)\n",
            "\u001b[K     |████████████████████████████████| 63 kB 2.1 MB/s \n",
            "\u001b[?25hCollecting smmap<6,>=3.0.1\n",
            "  Downloading smmap-5.0.0-py3-none-any.whl (24 kB)\n",
            "Requirement already satisfied: idna<3,>=2.5 in /usr/local/lib/python3.7/dist-packages (from requests<3,>=2.0.0->wandb) (2.10)\n",
            "Requirement already satisfied: chardet<4,>=3.0.2 in /usr/local/lib/python3.7/dist-packages (from requests<3,>=2.0.0->wandb) (3.0.4)\n",
            "Requirement already satisfied: certifi>=2017.4.17 in /usr/local/lib/python3.7/dist-packages (from requests<3,>=2.0.0->wandb) (2022.9.24)\n",
            "Requirement already satisfied: urllib3!=1.25.0,!=1.25.1,<1.26,>=1.21.1 in /usr/local/lib/python3.7/dist-packages (from requests<3,>=2.0.0->wandb) (1.24.3)\n",
            "Collecting sentry-sdk>=1.0.0\n",
            "  Downloading sentry_sdk-1.9.9-py2.py3-none-any.whl (162 kB)\n",
            "\u001b[K     |████████████████████████████████| 162 kB 49.8 MB/s \n",
            "\u001b[?25h  Downloading sentry_sdk-1.9.8-py2.py3-none-any.whl (158 kB)\n",
            "\u001b[K     |████████████████████████████████| 158 kB 72.1 MB/s \n",
            "\u001b[?25h  Downloading sentry_sdk-1.9.7-py2.py3-none-any.whl (157 kB)\n",
            "\u001b[K     |████████████████████████████████| 157 kB 72.2 MB/s \n",
            "\u001b[?25h  Downloading sentry_sdk-1.9.6-py2.py3-none-any.whl (157 kB)\n",
            "\u001b[K     |████████████████████████████████| 157 kB 75.8 MB/s \n",
            "\u001b[?25h  Downloading sentry_sdk-1.9.5-py2.py3-none-any.whl (157 kB)\n",
            "\u001b[K     |████████████████████████████████| 157 kB 75.0 MB/s \n",
            "\u001b[?25h  Downloading sentry_sdk-1.9.4-py2.py3-none-any.whl (157 kB)\n",
            "\u001b[K     |████████████████████████████████| 157 kB 67.2 MB/s \n",
            "\u001b[?25h  Downloading sentry_sdk-1.9.3-py2.py3-none-any.whl (157 kB)\n",
            "\u001b[K     |████████████████████████████████| 157 kB 75.8 MB/s \n",
            "\u001b[?25h  Downloading sentry_sdk-1.9.2-py2.py3-none-any.whl (157 kB)\n",
            "\u001b[K     |████████████████████████████████| 157 kB 77.0 MB/s \n",
            "\u001b[?25h  Downloading sentry_sdk-1.9.1-py2.py3-none-any.whl (157 kB)\n",
            "\u001b[K     |████████████████████████████████| 157 kB 79.2 MB/s \n",
            "\u001b[?25h  Downloading sentry_sdk-1.9.0-py2.py3-none-any.whl (156 kB)\n",
            "\u001b[K     |████████████████████████████████| 156 kB 77.0 MB/s \n",
            "\u001b[?25hBuilding wheels for collected packages: pathtools\n",
            "  Building wheel for pathtools (setup.py) ... \u001b[?25l\u001b[?25hdone\n",
            "  Created wheel for pathtools: filename=pathtools-0.1.2-py3-none-any.whl size=8806 sha256=fdb9a70d191c42dc6d3b84f5692caa5f1686ffc503ef2492ca9b799a24c45dfd\n",
            "  Stored in directory: /root/.cache/pip/wheels/3e/31/09/fa59cef12cdcfecc627b3d24273699f390e71828921b2cbba2\n",
            "Successfully built pathtools\n",
            "Installing collected packages: smmap, gitdb, shortuuid, setproctitle, sentry-sdk, pathtools, GitPython, docker-pycreds, wandb\n",
            "Successfully installed GitPython-3.1.29 docker-pycreds-0.4.0 gitdb-4.0.9 pathtools-0.1.2 sentry-sdk-1.9.0 setproctitle-1.3.2 shortuuid-1.0.9 smmap-5.0.0 wandb-0.13.4\n",
            "Looking in indexes: https://pypi.org/simple, https://us-python.pkg.dev/colab-wheels/public/simple/\n",
            "Collecting torchinfo\n",
            "  Downloading torchinfo-1.7.1-py3-none-any.whl (22 kB)\n",
            "Installing collected packages: torchinfo\n",
            "Successfully installed torchinfo-1.7.1\n"
          ]
        }
      ],
      "source": [
        "# Uncomment the below line to install wandb (optinal)\n",
        "!pip install wandb \n",
        "# Uncomment the below line to install torchinfo (https://github.com/TylerYep/torchinfo) [Mandatory]\n",
        "!pip install torchinfo"
      ]
    },
    {
      "cell_type": "code",
      "execution_count": 2,
      "id": "8211a22f",
      "metadata": {
        "id": "8211a22f",
        "colab": {
          "base_uri": "https://localhost:8080/"
        },
        "outputId": "10eb65b8-1698-4b27-a4e6-2eb800abf0ac"
      },
      "outputs": [
        {
          "output_type": "stream",
          "name": "stderr",
          "text": [
            "--2022-10-19 02:55:18--  https://cs7150.baulab.info/2022-Fall/data/mnist-classify.pth\n",
            "Resolving cs7150.baulab.info (cs7150.baulab.info)... 35.232.255.106\n",
            "Connecting to cs7150.baulab.info (cs7150.baulab.info)|35.232.255.106|:443... connected.\n",
            "HTTP request sent, awaiting response... 200 OK\n",
            "Length: 1078198 (1.0M)\n",
            "Saving to: ‘mnist-classify.pth’\n",
            "\n",
            "     0K .......... .......... .......... .......... ..........  4%  127K 8s\n",
            "    50K .......... .......... .......... .......... ..........  9%  263K 6s\n",
            "   100K .......... .......... .......... .......... .......... 14% 5.44M 4s\n",
            "   150K .......... .......... .......... .......... .......... 18%  272K 3s\n",
            "   200K .......... .......... .......... .......... .......... 23% 8.90M 3s\n",
            "   250K .......... .......... .......... .......... .......... 28% 4.46M 2s\n",
            "   300K .......... .......... .......... .......... .......... 33% 6.66M 2s\n",
            "   350K .......... .......... .......... .......... .......... 37% 4.06M 1s\n",
            "   400K .......... .......... .......... .......... .......... 42%  306K 1s\n",
            "   450K .......... .......... .......... .......... .......... 47% 5.38M 1s\n",
            "   500K .......... .......... .......... .......... .......... 52% 6.72M 1s\n",
            "   550K .......... .......... .......... .......... .......... 56% 4.77M 1s\n",
            "   600K .......... .......... .......... .......... .......... 61% 6.54M 1s\n",
            "   650K .......... .......... .......... .......... .......... 66% 4.86M 1s\n",
            "   700K .......... .......... .......... .......... .......... 71% 3.78M 0s\n",
            "   750K .......... .......... .......... .......... .......... 75% 5.66M 0s\n",
            "   800K .......... .......... .......... .......... .......... 80% 3.36M 0s\n",
            "   850K .......... .......... .......... .......... .......... 85%  447K 0s\n",
            "   900K .......... .......... .......... .......... .......... 90% 11.6M 0s\n",
            "   950K .......... .......... .......... .......... .......... 94% 7.32M 0s\n",
            "  1000K .......... .......... .......... .......... .......... 99% 12.2M 0s\n",
            "  1050K ..                                                    100% 5584G=1.2s\n",
            "\n",
            "2022-10-19 02:55:20 (890 KB/s) - ‘mnist-classify.pth’ saved [1078198/1078198]\n",
            "\n"
          ]
        }
      ],
      "source": [
        "%%bash\n",
        "\n",
        "wget -N https://cs7150.baulab.info/2022-Fall/data/mnist-classify.pth"
      ]
    },
    {
      "cell_type": "code",
      "execution_count": 3,
      "id": "621c2c89",
      "metadata": {
        "scrolled": true,
        "id": "621c2c89"
      },
      "outputs": [],
      "source": [
        "# Importing libraries\n",
        "import matplotlib.pyplot as plt\n",
        "\n",
        "import torch \n",
        "import torchvision\n",
        "from torchvision import transforms\n",
        "from torch.utils.data import DataLoader,random_split,Subset\n",
        "from torch import nn\n",
        "import torch.nn.functional as F\n",
        "import torch.optim as optim\n",
        "from torchinfo import summary\n",
        "import numpy as np\n",
        "import datetime\n",
        "\n",
        "from typing import List\n",
        "from collections import OrderedDict\n",
        "import math"
      ]
    },
    {
      "cell_type": "code",
      "execution_count": 4,
      "id": "e05fd6b2",
      "metadata": {
        "id": "e05fd6b2",
        "colab": {
          "base_uri": "https://localhost:8080/",
          "height": 164
        },
        "outputId": "eb80eac3-9bd9-423c-939e-0b52b011d67a"
      },
      "outputs": [
        {
          "output_type": "stream",
          "name": "stderr",
          "text": [
            "ERROR:wandb.jupyter:Failed to detect the name of this notebook, you can set it manually with the WANDB_NOTEBOOK_NAME environment variable to enable code saving.\n"
          ]
        },
        {
          "output_type": "display_data",
          "data": {
            "text/plain": [
              "<IPython.core.display.Javascript object>"
            ],
            "application/javascript": [
              "\n",
              "        window._wandbApiKey = new Promise((resolve, reject) => {\n",
              "            function loadScript(url) {\n",
              "            return new Promise(function(resolve, reject) {\n",
              "                let newScript = document.createElement(\"script\");\n",
              "                newScript.onerror = reject;\n",
              "                newScript.onload = resolve;\n",
              "                document.body.appendChild(newScript);\n",
              "                newScript.src = url;\n",
              "            });\n",
              "            }\n",
              "            loadScript(\"https://cdn.jsdelivr.net/npm/postmate/build/postmate.min.js\").then(() => {\n",
              "            const iframe = document.createElement('iframe')\n",
              "            iframe.style.cssText = \"width:0;height:0;border:none\"\n",
              "            document.body.appendChild(iframe)\n",
              "            const handshake = new Postmate({\n",
              "                container: iframe,\n",
              "                url: 'https://wandb.ai/authorize'\n",
              "            });\n",
              "            const timeout = setTimeout(() => reject(\"Couldn't auto authenticate\"), 5000)\n",
              "            handshake.then(function(child) {\n",
              "                child.on('authorize', data => {\n",
              "                    clearTimeout(timeout)\n",
              "                    resolve(data)\n",
              "                });\n",
              "            });\n",
              "            })\n",
              "        });\n",
              "    "
            ]
          },
          "metadata": {}
        },
        {
          "output_type": "stream",
          "name": "stderr",
          "text": [
            "\u001b[34m\u001b[1mwandb\u001b[0m: Appending key for api.wandb.ai to your netrc file: /root/.netrc\n"
          ]
        },
        {
          "output_type": "display_data",
          "data": {
            "text/plain": [
              "<IPython.core.display.HTML object>"
            ],
            "text/html": [
              "Tracking run with wandb version 0.13.4"
            ]
          },
          "metadata": {}
        },
        {
          "output_type": "display_data",
          "data": {
            "text/plain": [
              "<IPython.core.display.HTML object>"
            ],
            "text/html": [
              "Run data is saved locally in <code>/content/wandb/run-20221019_025530-1rpcpk2z</code>"
            ]
          },
          "metadata": {}
        },
        {
          "output_type": "display_data",
          "data": {
            "text/plain": [
              "<IPython.core.display.HTML object>"
            ],
            "text/html": [
              "Syncing run <strong><a href=\"https://wandb.ai/histravelstory/hw3.1-ConvNets/runs/1rpcpk2z\" target=\"_blank\">skilled-sunset-6</a></strong> to <a href=\"https://wandb.ai/histravelstory/hw3.1-ConvNets\" target=\"_blank\">Weights & Biases</a> (<a href=\"https://wandb.me/run\" target=\"_blank\">docs</a>)<br/>"
            ]
          },
          "metadata": {}
        },
        {
          "output_type": "execute_result",
          "data": {
            "text/html": [
              "<button onClick=\"this.nextSibling.style.display='block';this.style.display='none';\">Display W&B run</button><iframe src=\"https://wandb.ai/histravelstory/hw3.1-ConvNets/runs/1rpcpk2z?jupyter=true\" style=\"border:none;width:100%;height:420px;display:none;\"></iframe>"
            ],
            "text/plain": [
              "<wandb.sdk.wandb_run.Run at 0x7f1565aa0fd0>"
            ]
          },
          "metadata": {},
          "execution_count": 4
        }
      ],
      "source": [
        "# Create an account at https://wandb.ai/site and paste the api key here (optional)\n",
        "import wandb\n",
        "wandb.init(project=\"hw3.1-ConvNets\")"
      ]
    },
    {
      "cell_type": "markdown",
      "source": [
        "## Parameters Changes"
      ],
      "metadata": {
        "id": "QTaWLG-Dsrje"
      },
      "id": "QTaWLG-Dsrje"
    },
    {
      "cell_type": "markdown",
      "id": "53ab5423",
      "metadata": {
        "id": "53ab5423"
      },
      "source": [
        "### Some helper functions to view network parameters"
      ]
    },
    {
      "cell_type": "code",
      "execution_count": 5,
      "id": "5233e6cb",
      "metadata": {
        "id": "5233e6cb"
      },
      "outputs": [],
      "source": [
        "def view_network_parameters(model):\n",
        "    # Visualise the number of parameters\n",
        "    tensor_list = list(model.state_dict().items())\n",
        "    total_parameters = 0\n",
        "    print('Model Summary\\n')\n",
        "    for layer_tensor_name, tensor in tensor_list:\n",
        "        total_parameters += int(torch.numel(tensor))\n",
        "        print('{}: {} elements'.format(layer_tensor_name, torch.numel(tensor)))\n",
        "    print(f'\\nTotal Trainable Parameters: {total_parameters}!')"
      ]
    },
    {
      "cell_type": "code",
      "execution_count": 6,
      "id": "13a073a7",
      "metadata": {
        "id": "13a073a7"
      },
      "outputs": [],
      "source": [
        "def view_network_shapes(model, input_shape):\n",
        "    print(summary(model, input_size=input_shape))"
      ]
    },
    {
      "cell_type": "markdown",
      "id": "d140bdae",
      "metadata": {
        "id": "d140bdae"
      },
      "source": [
        "### Fully Connected Network for Image Classification\n",
        "Let's build a simple fully connected network!"
      ]
    },
    {
      "cell_type": "code",
      "execution_count": 7,
      "id": "ccf368fb",
      "metadata": {
        "id": "ccf368fb"
      },
      "outputs": [],
      "source": [
        "def simple_fc_net():\n",
        "    model = nn.Sequential(\n",
        "        nn.Flatten(),\n",
        "        nn.Linear(1*28*28,8*28*28),\n",
        "        nn.ReLU(),\n",
        "        nn.Linear(8*28*28,16*14*14),\n",
        "        nn.ReLU(),\n",
        "        nn.Linear(16*14*14,32*7*7),\n",
        "        nn.ReLU(),\n",
        "        nn.Linear(32*7*7,288),\n",
        "        nn.ReLU(),\n",
        "        nn.Linear(288,64),\n",
        "        nn.ReLU(),\n",
        "        nn.Linear(64,10),\n",
        "        nn.LogSoftmax())\n",
        "    return model"
      ]
    },
    {
      "cell_type": "code",
      "execution_count": 8,
      "id": "8306548c",
      "metadata": {
        "id": "8306548c"
      },
      "outputs": [],
      "source": [
        "fc_net = simple_fc_net()"
      ]
    },
    {
      "cell_type": "code",
      "execution_count": 9,
      "id": "f968a3c1",
      "metadata": {
        "id": "f968a3c1",
        "colab": {
          "base_uri": "https://localhost:8080/"
        },
        "outputId": "24d7bd0d-5466-4d34-c38f-ce58932f1bf4"
      },
      "outputs": [
        {
          "output_type": "stream",
          "name": "stdout",
          "text": [
            "Model Summary\n",
            "\n",
            "1.weight: 4917248 elements\n",
            "1.bias: 6272 elements\n",
            "3.weight: 19668992 elements\n",
            "3.bias: 3136 elements\n",
            "5.weight: 4917248 elements\n",
            "5.bias: 1568 elements\n",
            "7.weight: 451584 elements\n",
            "7.bias: 288 elements\n",
            "9.weight: 18432 elements\n",
            "9.bias: 64 elements\n",
            "11.weight: 640 elements\n",
            "11.bias: 10 elements\n",
            "\n",
            "Total Trainable Parameters: 29985482!\n"
          ]
        }
      ],
      "source": [
        "view_network_parameters(fc_net)"
      ]
    },
    {
      "cell_type": "code",
      "execution_count": 10,
      "id": "a19d63c2",
      "metadata": {
        "id": "a19d63c2",
        "colab": {
          "base_uri": "https://localhost:8080/"
        },
        "outputId": "6c4de612-891e-4d73-e42c-fe17132c25fd"
      },
      "outputs": [
        {
          "output_type": "stream",
          "name": "stderr",
          "text": [
            "/usr/local/lib/python3.7/dist-packages/torch/nn/modules/container.py:139: UserWarning: Implicit dimension choice for log_softmax has been deprecated. Change the call to include dim=X as an argument.\n",
            "  input = module(input)\n"
          ]
        },
        {
          "output_type": "execute_result",
          "data": {
            "text/plain": [
              "==========================================================================================\n",
              "Layer (type:depth-idx)                   Output Shape              Param #\n",
              "==========================================================================================\n",
              "Sequential                               [1, 10]                   --\n",
              "├─Flatten: 1-1                           [1, 784]                  --\n",
              "├─Linear: 1-2                            [1, 6272]                 4,923,520\n",
              "├─ReLU: 1-3                              [1, 6272]                 --\n",
              "├─Linear: 1-4                            [1, 3136]                 19,672,128\n",
              "├─ReLU: 1-5                              [1, 3136]                 --\n",
              "├─Linear: 1-6                            [1, 1568]                 4,918,816\n",
              "├─ReLU: 1-7                              [1, 1568]                 --\n",
              "├─Linear: 1-8                            [1, 288]                  451,872\n",
              "├─ReLU: 1-9                              [1, 288]                  --\n",
              "├─Linear: 1-10                           [1, 64]                   18,496\n",
              "├─ReLU: 1-11                             [1, 64]                   --\n",
              "├─Linear: 1-12                           [1, 10]                   650\n",
              "├─LogSoftmax: 1-13                       [1, 10]                   --\n",
              "==========================================================================================\n",
              "Total params: 29,985,482\n",
              "Trainable params: 29,985,482\n",
              "Non-trainable params: 0\n",
              "Total mult-adds (M): 29.99\n",
              "==========================================================================================\n",
              "Input size (MB): 0.00\n",
              "Forward/backward pass size (MB): 0.09\n",
              "Params size (MB): 119.94\n",
              "Estimated Total Size (MB): 120.04\n",
              "=========================================================================================="
            ]
          },
          "metadata": {},
          "execution_count": 10
        }
      ],
      "source": [
        "from torchinfo import summary\n",
        "summary(fc_net, input_size=(1, 1, 28,28))"
      ]
    },
    {
      "cell_type": "markdown",
      "id": "25cfc411",
      "metadata": {
        "id": "25cfc411"
      },
      "source": [
        "<b>Exercise</b>: Now try to add different layers and see how the network parameters vary. Does adding layers reduce the parameters? Does the number of hidden neurons in the layers affect the total trainable parameters? \n",
        "\n",
        "<i>Add a few sentences on your observations while using various architectures</i>"
      ]
    },
    {
      "cell_type": "code",
      "source": [
        "def getParameters(fc_net):\n",
        "  return summary(fc_net, input_size=(1, 1, 28,28))"
      ],
      "metadata": {
        "id": "anZ2nNAToARk"
      },
      "id": "anZ2nNAToARk",
      "execution_count": 11,
      "outputs": []
    },
    {
      "cell_type": "markdown",
      "source": [
        "### Linear Layer at the end "
      ],
      "metadata": {
        "id": "9SjP3CCwpga5"
      },
      "id": "9SjP3CCwpga5"
    },
    {
      "cell_type": "code",
      "source": [
        "def simple_fc_net_add_Linear():\n",
        "    model = nn.Sequential(\n",
        "        nn.Flatten(),\n",
        "        nn.Linear(1*28*28,8*28*28),\n",
        "        nn.ReLU(),\n",
        "        nn.Linear(8*28*28,16*14*14),\n",
        "        nn.ReLU(),\n",
        "        nn.Linear(16*14*14,32*7*7),\n",
        "        nn.ReLU(),\n",
        "        nn.Linear(32*7*7,288),\n",
        "        nn.ReLU(),\n",
        "        nn.Linear(288,64),\n",
        "        nn.ReLU(),\n",
        "        nn.Linear(64,32),\n",
        "        nn.ReLU(),\n",
        "        nn.Linear(32,10),\n",
        "        nn.LogSoftmax())\n",
        "    return model\n"
      ],
      "metadata": {
        "id": "VNfaSt5bn2WN"
      },
      "id": "VNfaSt5bn2WN",
      "execution_count": 12,
      "outputs": []
    },
    {
      "cell_type": "code",
      "source": [
        "getParameters(simple_fc_net_add_Linear())"
      ],
      "metadata": {
        "colab": {
          "base_uri": "https://localhost:8080/"
        },
        "id": "06PRLZxDoM0s",
        "outputId": "280fb917-b143-47ea-b64f-75e1e3ae9d49"
      },
      "id": "06PRLZxDoM0s",
      "execution_count": 13,
      "outputs": [
        {
          "output_type": "execute_result",
          "data": {
            "text/plain": [
              "==========================================================================================\n",
              "Layer (type:depth-idx)                   Output Shape              Param #\n",
              "==========================================================================================\n",
              "Sequential                               [1, 10]                   --\n",
              "├─Flatten: 1-1                           [1, 784]                  --\n",
              "├─Linear: 1-2                            [1, 6272]                 4,923,520\n",
              "├─ReLU: 1-3                              [1, 6272]                 --\n",
              "├─Linear: 1-4                            [1, 3136]                 19,672,128\n",
              "├─ReLU: 1-5                              [1, 3136]                 --\n",
              "├─Linear: 1-6                            [1, 1568]                 4,918,816\n",
              "├─ReLU: 1-7                              [1, 1568]                 --\n",
              "├─Linear: 1-8                            [1, 288]                  451,872\n",
              "├─ReLU: 1-9                              [1, 288]                  --\n",
              "├─Linear: 1-10                           [1, 64]                   18,496\n",
              "├─ReLU: 1-11                             [1, 64]                   --\n",
              "├─Linear: 1-12                           [1, 32]                   2,080\n",
              "├─ReLU: 1-13                             [1, 32]                   --\n",
              "├─Linear: 1-14                           [1, 10]                   330\n",
              "├─LogSoftmax: 1-15                       [1, 10]                   --\n",
              "==========================================================================================\n",
              "Total params: 29,987,242\n",
              "Trainable params: 29,987,242\n",
              "Non-trainable params: 0\n",
              "Total mult-adds (M): 29.99\n",
              "==========================================================================================\n",
              "Input size (MB): 0.00\n",
              "Forward/backward pass size (MB): 0.09\n",
              "Params size (MB): 119.95\n",
              "Estimated Total Size (MB): 120.04\n",
              "=========================================================================================="
            ]
          },
          "metadata": {},
          "execution_count": 13
        }
      ]
    },
    {
      "cell_type": "markdown",
      "source": [
        "### Linear Layer at the beginning"
      ],
      "metadata": {
        "id": "55BauVJRpj3e"
      },
      "id": "55BauVJRpj3e"
    },
    {
      "cell_type": "code",
      "source": [
        "def simple_fc_net_Early_Linear():\n",
        "    model = nn.Sequential(\n",
        "        nn.Flatten(),\n",
        "        nn.Linear(1*28*28,8*28*28),\n",
        "        nn.ReLU(),\n",
        "        nn.Linear(8*28*28,4*28*28),\n",
        "        nn.ReLU(),\n",
        "        nn.Linear(4*28*28,16*14*14),\n",
        "        nn.ReLU(),\n",
        "        nn.Linear(16*14*14,32*7*7),\n",
        "        nn.ReLU(),\n",
        "        nn.Linear(32*7*7,288),\n",
        "        nn.ReLU(),\n",
        "        nn.Linear(288,64),\n",
        "        nn.ReLU(),\n",
        "        nn.Linear(64,10),\n",
        "        nn.LogSoftmax())\n",
        "    return model"
      ],
      "metadata": {
        "id": "i_m2ga3rpnNx"
      },
      "id": "i_m2ga3rpnNx",
      "execution_count": 14,
      "outputs": []
    },
    {
      "cell_type": "code",
      "source": [
        "getParameters(simple_fc_net_Early_Linear())"
      ],
      "metadata": {
        "colab": {
          "base_uri": "https://localhost:8080/"
        },
        "id": "RV9eAkLZpz_n",
        "outputId": "62b0cb2d-fe0a-4095-a2f3-23a6c66ea5ee"
      },
      "id": "RV9eAkLZpz_n",
      "execution_count": 15,
      "outputs": [
        {
          "output_type": "execute_result",
          "data": {
            "text/plain": [
              "==========================================================================================\n",
              "Layer (type:depth-idx)                   Output Shape              Param #\n",
              "==========================================================================================\n",
              "Sequential                               [1, 10]                   --\n",
              "├─Flatten: 1-1                           [1, 784]                  --\n",
              "├─Linear: 1-2                            [1, 6272]                 4,923,520\n",
              "├─ReLU: 1-3                              [1, 6272]                 --\n",
              "├─Linear: 1-4                            [1, 3136]                 19,672,128\n",
              "├─ReLU: 1-5                              [1, 3136]                 --\n",
              "├─Linear: 1-6                            [1, 3136]                 9,837,632\n",
              "├─ReLU: 1-7                              [1, 3136]                 --\n",
              "├─Linear: 1-8                            [1, 1568]                 4,918,816\n",
              "├─ReLU: 1-9                              [1, 1568]                 --\n",
              "├─Linear: 1-10                           [1, 288]                  451,872\n",
              "├─ReLU: 1-11                             [1, 288]                  --\n",
              "├─Linear: 1-12                           [1, 64]                   18,496\n",
              "├─ReLU: 1-13                             [1, 64]                   --\n",
              "├─Linear: 1-14                           [1, 10]                   650\n",
              "├─LogSoftmax: 1-15                       [1, 10]                   --\n",
              "==========================================================================================\n",
              "Total params: 39,823,114\n",
              "Trainable params: 39,823,114\n",
              "Non-trainable params: 0\n",
              "Total mult-adds (M): 39.82\n",
              "==========================================================================================\n",
              "Input size (MB): 0.00\n",
              "Forward/backward pass size (MB): 0.12\n",
              "Params size (MB): 159.29\n",
              "Estimated Total Size (MB): 159.41\n",
              "=========================================================================================="
            ]
          },
          "metadata": {},
          "execution_count": 15
        }
      ]
    },
    {
      "cell_type": "markdown",
      "source": [
        "### Removing ReLu from previous"
      ],
      "metadata": {
        "id": "YIVPjJISrImm"
      },
      "id": "YIVPjJISrImm"
    },
    {
      "cell_type": "code",
      "source": [
        "def simple_fc_net_ReLuRemoved():\n",
        "    model = nn.Sequential(\n",
        "        nn.Flatten(),\n",
        "        nn.Linear(1*28*28,8*28*28),\n",
        "        nn.ReLU(),\n",
        "        nn.Linear(8*28*28,4*28*28),\n",
        "        nn.ReLU(),\n",
        "        nn.Linear(4*28*28,16*14*14),\n",
        "        nn.ReLU(),\n",
        "        nn.Linear(16*14*14,32*7*7),\n",
        "        nn.ReLU(),\n",
        "        nn.Linear(32*7*7,288),\n",
        "        nn.ReLU(),\n",
        "        nn.Linear(288,64),\n",
        "        nn.Linear(64,10),\n",
        "        nn.LogSoftmax())\n",
        "    return model\n",
        "getParameters(simple_fc_net_ReLuRemoved())"
      ],
      "metadata": {
        "colab": {
          "base_uri": "https://localhost:8080/"
        },
        "id": "oupMsZTDrLks",
        "outputId": "7f18e050-c2cb-44f5-8115-a4340cc50c1a"
      },
      "id": "oupMsZTDrLks",
      "execution_count": 16,
      "outputs": [
        {
          "output_type": "execute_result",
          "data": {
            "text/plain": [
              "==========================================================================================\n",
              "Layer (type:depth-idx)                   Output Shape              Param #\n",
              "==========================================================================================\n",
              "Sequential                               [1, 10]                   --\n",
              "├─Flatten: 1-1                           [1, 784]                  --\n",
              "├─Linear: 1-2                            [1, 6272]                 4,923,520\n",
              "├─ReLU: 1-3                              [1, 6272]                 --\n",
              "├─Linear: 1-4                            [1, 3136]                 19,672,128\n",
              "├─ReLU: 1-5                              [1, 3136]                 --\n",
              "├─Linear: 1-6                            [1, 3136]                 9,837,632\n",
              "├─ReLU: 1-7                              [1, 3136]                 --\n",
              "├─Linear: 1-8                            [1, 1568]                 4,918,816\n",
              "├─ReLU: 1-9                              [1, 1568]                 --\n",
              "├─Linear: 1-10                           [1, 288]                  451,872\n",
              "├─ReLU: 1-11                             [1, 288]                  --\n",
              "├─Linear: 1-12                           [1, 64]                   18,496\n",
              "├─Linear: 1-13                           [1, 10]                   650\n",
              "├─LogSoftmax: 1-14                       [1, 10]                   --\n",
              "==========================================================================================\n",
              "Total params: 39,823,114\n",
              "Trainable params: 39,823,114\n",
              "Non-trainable params: 0\n",
              "Total mult-adds (M): 39.82\n",
              "==========================================================================================\n",
              "Input size (MB): 0.00\n",
              "Forward/backward pass size (MB): 0.12\n",
              "Params size (MB): 159.29\n",
              "Estimated Total Size (MB): 159.41\n",
              "=========================================================================================="
            ]
          },
          "metadata": {},
          "execution_count": 16
        }
      ]
    },
    {
      "cell_type": "markdown",
      "source": [
        "### Bias"
      ],
      "metadata": {
        "id": "7gwdUNlHr2Qf"
      },
      "id": "7gwdUNlHr2Qf"
    },
    {
      "cell_type": "code",
      "source": [
        "def simple_fc_net_BiasAdding():\n",
        "    model = nn.Sequential(\n",
        "        nn.Flatten(),\n",
        "        nn.Linear(1*28*28,8*28*28),\n",
        "        nn.ReLU(),\n",
        "        nn.Linear(8*28*28,4*28*28, bias=True),\n",
        "        nn.ReLU(),\n",
        "        nn.Linear(4*28*28,16*14*14, bias=False),\n",
        "        nn.ReLU(),\n",
        "        nn.Linear(16*14*14,32*7*7),\n",
        "        nn.ReLU(),\n",
        "        nn.Linear(32*7*7,288),\n",
        "        nn.ReLU(),\n",
        "        nn.Linear(288,64),\n",
        "        nn.Linear(64,10),\n",
        "        nn.LogSoftmax())\n",
        "    return model\n",
        "getParameters(simple_fc_net_BiasAdding())"
      ],
      "metadata": {
        "colab": {
          "base_uri": "https://localhost:8080/"
        },
        "id": "oEVs6JWZr4VS",
        "outputId": "ba81c890-3dc6-4a24-a9dd-6dd4c2a20a95"
      },
      "id": "oEVs6JWZr4VS",
      "execution_count": 17,
      "outputs": [
        {
          "output_type": "execute_result",
          "data": {
            "text/plain": [
              "==========================================================================================\n",
              "Layer (type:depth-idx)                   Output Shape              Param #\n",
              "==========================================================================================\n",
              "Sequential                               [1, 10]                   --\n",
              "├─Flatten: 1-1                           [1, 784]                  --\n",
              "├─Linear: 1-2                            [1, 6272]                 4,923,520\n",
              "├─ReLU: 1-3                              [1, 6272]                 --\n",
              "├─Linear: 1-4                            [1, 3136]                 19,672,128\n",
              "├─ReLU: 1-5                              [1, 3136]                 --\n",
              "├─Linear: 1-6                            [1, 3136]                 9,834,496\n",
              "├─ReLU: 1-7                              [1, 3136]                 --\n",
              "├─Linear: 1-8                            [1, 1568]                 4,918,816\n",
              "├─ReLU: 1-9                              [1, 1568]                 --\n",
              "├─Linear: 1-10                           [1, 288]                  451,872\n",
              "├─ReLU: 1-11                             [1, 288]                  --\n",
              "├─Linear: 1-12                           [1, 64]                   18,496\n",
              "├─Linear: 1-13                           [1, 10]                   650\n",
              "├─LogSoftmax: 1-14                       [1, 10]                   --\n",
              "==========================================================================================\n",
              "Total params: 39,819,978\n",
              "Trainable params: 39,819,978\n",
              "Non-trainable params: 0\n",
              "Total mult-adds (M): 39.82\n",
              "==========================================================================================\n",
              "Input size (MB): 0.00\n",
              "Forward/backward pass size (MB): 0.12\n",
              "Params size (MB): 159.28\n",
              "Estimated Total Size (MB): 159.40\n",
              "=========================================================================================="
            ]
          },
          "metadata": {},
          "execution_count": 17
        }
      ]
    },
    {
      "cell_type": "code",
      "execution_count": 18,
      "id": "2775c829",
      "metadata": {
        "id": "2775c829"
      },
      "outputs": [],
      "source": [
        "# Trainable parameters depends on the input and output of a particular layer, if the values are high then we have large number of parameters that\n",
        "# we can train to understand the features.\n",
        "# And we can see that removing or adding an activation function doesnt increase or decrease the trainable parameters, becase ReLu or any other activation\n",
        "# function is just used to normalize or make data non linear based on already fixed function.\n",
        "# Bias also has an effect on the learned parameters, we also learn the bias. When the bias is set as false it reduces the number of parameters to learn.\n",
        "# By default the bias is True.\n"
      ]
    },
    {
      "cell_type": "markdown",
      "source": [
        "## CNN for Image Classification"
      ],
      "metadata": {
        "id": "h2bMf61TszgS"
      },
      "id": "h2bMf61TszgS"
    },
    {
      "cell_type": "markdown",
      "id": "245bc885",
      "metadata": {
        "id": "245bc885"
      },
      "source": [
        "### Convolutional Neural Network for Image Classification\n",
        "Let's build a simple CNN to classify our images. \n",
        "<b> Exercise 3.1.1:</b> In the function below please add the conv/Relu/Maxpool layers to match the shape of FC-Net. Suppose at the some layer the FC-Net has `28*28*16` dimension, we want your conv_net to have `16 X 28 X 28` shape at the same numbered layer. <br>\n",
        "<b>Extra-credit:</b> Try not to use MaxPool2d !"
      ]
    },
    {
      "cell_type": "markdown",
      "source": [
        "**With maxpool**"
      ],
      "metadata": {
        "id": "dZDMpirpL1fT"
      },
      "id": "dZDMpirpL1fT"
    },
    {
      "cell_type": "code",
      "execution_count": 31,
      "id": "65674742",
      "metadata": {
        "id": "65674742",
        "colab": {
          "base_uri": "https://localhost:8080/"
        },
        "outputId": "9e5d3892-05b4-4b79-e2a8-1861e6c558b0"
      },
      "outputs": [
        {
          "output_type": "stream",
          "name": "stdout",
          "text": [
            "Model Summary\n",
            "\n",
            "0.weight: 72 elements\n",
            "0.bias: 8 elements\n",
            "2.weight: 1152 elements\n",
            "2.bias: 16 elements\n",
            "5.weight: 4608 elements\n",
            "5.bias: 32 elements\n",
            "7.weight: 9216 elements\n",
            "7.bias: 32 elements\n",
            "10.weight: 18432 elements\n",
            "10.bias: 64 elements\n",
            "12.weight: 640 elements\n",
            "12.bias: 10 elements\n",
            "\n",
            "Total Trainable Parameters: 34282!\n",
            "==========================================================================================\n",
            "Layer (type:depth-idx)                   Output Shape              Param #\n",
            "==========================================================================================\n",
            "Sequential                               [1, 10]                   --\n",
            "├─Conv2d: 1-1                            [1, 8, 28, 28]            80\n",
            "├─ReLU: 1-2                              [1, 8, 28, 28]            --\n",
            "├─Conv2d: 1-3                            [1, 16, 14, 14]           1,168\n",
            "├─ReLU: 1-4                              [1, 16, 14, 14]           --\n",
            "├─MaxPool2d: 1-5                         [1, 16, 14, 14]           --\n",
            "├─Conv2d: 1-6                            [1, 32, 7, 7]             4,640\n",
            "├─ReLU: 1-7                              [1, 32, 7, 7]             --\n",
            "├─Conv2d: 1-8                            [1, 32, 3, 3]             9,248\n",
            "├─ReLU: 1-9                              [1, 32, 3, 3]             --\n",
            "├─Flatten: 1-10                          [1, 288]                  --\n",
            "├─Linear: 1-11                           [1, 64]                   18,496\n",
            "├─ReLU: 1-12                             [1, 64]                   --\n",
            "├─Linear: 1-13                           [1, 10]                   650\n",
            "├─LogSoftmax: 1-14                       [1, 10]                   --\n",
            "==========================================================================================\n",
            "Total params: 34,282\n",
            "Trainable params: 34,282\n",
            "Non-trainable params: 0\n",
            "Total mult-adds (M): 0.62\n",
            "==========================================================================================\n",
            "Input size (MB): 0.00\n",
            "Forward/backward pass size (MB): 0.09\n",
            "Params size (MB): 0.14\n",
            "Estimated Total Size (MB): 0.23\n",
            "==========================================================================================\n"
          ]
        }
      ],
      "source": [
        "def simple_conv_net_Normal():\n",
        "    model = nn.Sequential(\n",
        "        nn.Conv2d(1, 8,kernel_size=3,padding=1),\n",
        "        nn.ReLU(),\n",
        "        nn.Conv2d(8, 16, kernel_size=3, padding=1, stride=2),\n",
        "        nn.ReLU(),\n",
        "        nn.MaxPool2d(kernel_size=1),\n",
        "        nn.Conv2d(16, 32, kernel_size=3, padding=1, stride=2),\n",
        "        nn.ReLU(),\n",
        "        nn.Conv2d(32, 32, kernel_size=3, padding=1, stride=3),\n",
        "        nn.ReLU(),\n",
        "        # TO-DO, what will your shape be after you flatten? Fill it in place of None\n",
        "        nn.Flatten(),\n",
        "        nn.Linear(288,64),\n",
        "        # Do not change the code below\n",
        "        nn.ReLU(),\n",
        "        nn.Linear(64,10),\n",
        "        nn.LogSoftmax())\n",
        "    return model\n",
        "\n",
        "conv_net = simple_conv_net_Normal()\n",
        "view_network_parameters(conv_net)\n",
        "view_network_shapes(conv_net, input_shape=(1,1,28,28))"
      ]
    },
    {
      "cell_type": "markdown",
      "source": [
        "**Without maxpool**"
      ],
      "metadata": {
        "id": "L9a2vOIvL475"
      },
      "id": "L9a2vOIvL475"
    },
    {
      "cell_type": "code",
      "source": [
        "def simple_conv_net_Extra_credit():\n",
        "    model = nn.Sequential(\n",
        "        nn.Conv2d(1, 8,kernel_size=3,padding=1),\n",
        "        nn.ReLU(),\n",
        "        nn.Conv2d(8, 16, kernel_size=3, padding=1, stride=2),\n",
        "        nn.ReLU(),\n",
        "        #nn.MaxPool2d(kernel_size=2),\n",
        "        nn.Conv2d(16, 32, kernel_size=3, padding=1, stride=2),\n",
        "        nn.ReLU(),\n",
        "        nn.Conv2d(32, 32, kernel_size=3, padding=1, stride=3),\n",
        "        nn.ReLU(),\n",
        "        # TO-DO, what will your shape be after you flatten? Fill it in place of None\n",
        "        nn.Flatten(),\n",
        "        nn.Linear(288,64),\n",
        "        # Do not change the code below\n",
        "        nn.ReLU(),\n",
        "        nn.Linear(64,10),\n",
        "        nn.LogSoftmax())\n",
        "    return model\n",
        "conv_net = simple_conv_net_Extra_credit()\n",
        "view_network_parameters(conv_net)\n",
        "view_network_shapes(conv_net, input_shape=(1,1,28,28))"
      ],
      "metadata": {
        "colab": {
          "base_uri": "https://localhost:8080/"
        },
        "id": "mfVXV8lQKcov",
        "outputId": "1cc803f2-a2ec-4256-e820-1d74a9d4a77c"
      },
      "id": "mfVXV8lQKcov",
      "execution_count": 32,
      "outputs": [
        {
          "output_type": "stream",
          "name": "stdout",
          "text": [
            "Model Summary\n",
            "\n",
            "0.weight: 72 elements\n",
            "0.bias: 8 elements\n",
            "2.weight: 1152 elements\n",
            "2.bias: 16 elements\n",
            "4.weight: 4608 elements\n",
            "4.bias: 32 elements\n",
            "6.weight: 9216 elements\n",
            "6.bias: 32 elements\n",
            "9.weight: 18432 elements\n",
            "9.bias: 64 elements\n",
            "11.weight: 640 elements\n",
            "11.bias: 10 elements\n",
            "\n",
            "Total Trainable Parameters: 34282!\n",
            "==========================================================================================\n",
            "Layer (type:depth-idx)                   Output Shape              Param #\n",
            "==========================================================================================\n",
            "Sequential                               [1, 10]                   --\n",
            "├─Conv2d: 1-1                            [1, 8, 28, 28]            80\n",
            "├─ReLU: 1-2                              [1, 8, 28, 28]            --\n",
            "├─Conv2d: 1-3                            [1, 16, 14, 14]           1,168\n",
            "├─ReLU: 1-4                              [1, 16, 14, 14]           --\n",
            "├─Conv2d: 1-5                            [1, 32, 7, 7]             4,640\n",
            "├─ReLU: 1-6                              [1, 32, 7, 7]             --\n",
            "├─Conv2d: 1-7                            [1, 32, 3, 3]             9,248\n",
            "├─ReLU: 1-8                              [1, 32, 3, 3]             --\n",
            "├─Flatten: 1-9                           [1, 288]                  --\n",
            "├─Linear: 1-10                           [1, 64]                   18,496\n",
            "├─ReLU: 1-11                             [1, 64]                   --\n",
            "├─Linear: 1-12                           [1, 10]                   650\n",
            "├─LogSoftmax: 1-13                       [1, 10]                   --\n",
            "==========================================================================================\n",
            "Total params: 34,282\n",
            "Trainable params: 34,282\n",
            "Non-trainable params: 0\n",
            "Total mult-adds (M): 0.62\n",
            "==========================================================================================\n",
            "Input size (MB): 0.00\n",
            "Forward/backward pass size (MB): 0.09\n",
            "Params size (MB): 0.14\n",
            "Estimated Total Size (MB): 0.23\n",
            "==========================================================================================\n"
          ]
        },
        {
          "output_type": "stream",
          "name": "stderr",
          "text": [
            "/usr/local/lib/python3.7/dist-packages/torch/nn/modules/container.py:139: UserWarning: Implicit dimension choice for log_softmax has been deprecated. Change the call to include dim=X as an argument.\n",
            "  input = module(input)\n"
          ]
        }
      ]
    },
    {
      "cell_type": "markdown",
      "id": "0f577403",
      "metadata": {
        "id": "0f577403"
      },
      "source": [
        "<b>Exercise 3.1.2</b>: Why is the final layer a log softmax? What is a softmax function? Can we use ReLU instead of softmax? If yes, what would you do different? If not, tell us why. If you think there is a different answer, feel free to use this space to chart it down"
      ]
    },
    {
      "cell_type": "markdown",
      "id": "e530f3e2",
      "metadata": {
        "id": "e530f3e2"
      },
      "source": [
        "* Softmax is normally used in the final layer of a neural network. It provides a probablity of an outcome with respect to the other outcomes it can have ( all the evenets are dependent ) and sum of all the probabilities of an even add upto 1. Where as ReLu just tries not to forward negative values, for all negative values the activation function results in 0.\n",
        "* Fromula\n",
        "  * ReLu = 0 for x<=0 and x for x>0\n",
        "  * Softmax = $\\frac{e^{-z_i}}{\\sum_{k} e^{-z_k}}$\n",
        "  \n",
        "  You can see that the Softmax is related to other events and is probability of an even happening considering other events. So in such case it is better than other probability output activation functions like sigmoid where the sum of probabilities of the output does not result in 1 and mutiple classes can have high probabilities unlike softmax.\n",
        "  \n",
        "* ReLu can be used in the last layer where we want a positive output, example stock predictions, but it would not give us the most optimal solutions, or for binary classifications where we get non zero value for one type of class and 0 for another class. But problem here is we would not have a confidence level to say how confidently the neural network predicts it."
      ]
    },
    {
      "cell_type": "markdown",
      "id": "41ea2c8c",
      "metadata": {
        "id": "41ea2c8c"
      },
      "source": [
        "<b>Exercise 3.1.3</b>: What is the ratio of number of parameters of Conv-net to number of parameters of FC-Net <br>\n",
        "$\\frac{p_{conv-net}}{p_{fc-net}}$ = $\\frac{34282}{29985482}$ <br>\n",
        "\n",
        "Do you see the difference ?! \n",
        "Yes, in fc(fully connected) net all the nodes in the hidden layer are interconnected, but in conv-net, not all the nodes are connected to one another in alternate layers. Hence we see that Conv-net has less number of trainable parameters than fc-net, but that does not mean that one is better than the other."
      ]
    },
    {
      "cell_type": "markdown",
      "id": "b4c6329e",
      "metadata": {
        "id": "b4c6329e"
      },
      "source": [
        "<b>Exercise 3.1.4</b>: Now try to add different layers and see how the network parameters vary. Does adding layers reduce the parameters? Does the number of hidden neurons in the layers affect the total trainable parameters? Use the `build_custom_fc_net` function given below. You do not have to understand the working of it. \n",
        "\n",
        "* <i> Adding layers increases trainable parameters and removing decreases. </i>\n",
        "* <i> Yes the number of neurons in the hidden layer has an effect in the trainable parameters, no. of neurons are directly proportional to the trainable parameters. </i>"
      ]
    },
    {
      "cell_type": "code",
      "execution_count": 33,
      "id": "b89d76f7",
      "metadata": {
        "scrolled": true,
        "id": "b89d76f7",
        "colab": {
          "base_uri": "https://localhost:8080/"
        },
        "outputId": "7254c8e5-52c2-4bba-f788-6b283eb7b7fc"
      },
      "outputs": [
        {
          "output_type": "stream",
          "name": "stdout",
          "text": [
            "Model Summary\n",
            "\n",
            "linear_1.weight: 100352 elements\n",
            "linear_1.bias: 128 elements\n",
            "linear_2.weight: 8192 elements\n",
            "linear_2.bias: 64 elements\n",
            "linear_3.weight: 2048 elements\n",
            "linear_3.bias: 32 elements\n",
            "linear_4.weight: 320 elements\n",
            "linear_4.bias: 10 elements\n",
            "\n",
            "Total Trainable Parameters: 111146!\n",
            "Model Summary\n",
            "\n",
            "linear_1.weight: 66640 elements\n",
            "linear_1.bias: 85 elements\n",
            "linear_2.weight: 5440 elements\n",
            "linear_2.bias: 64 elements\n",
            "linear_3.weight: 2048 elements\n",
            "linear_3.bias: 32 elements\n",
            "linear_4.weight: 320 elements\n",
            "linear_4.bias: 10 elements\n",
            "\n",
            "Total Trainable Parameters: 74639!\n",
            "Model Summary\n",
            "\n",
            "linear_1.weight: 50176 elements\n",
            "linear_1.bias: 64 elements\n",
            "linear_2.weight: 2048 elements\n",
            "linear_2.bias: 32 elements\n",
            "linear_3.weight: 320 elements\n",
            "linear_3.bias: 10 elements\n",
            "\n",
            "Total Trainable Parameters: 52650!\n",
            "Model Summary\n",
            "\n",
            "linear_1.weight: 200704 elements\n",
            "linear_1.bias: 256 elements\n",
            "linear_2.weight: 32768 elements\n",
            "linear_2.bias: 128 elements\n",
            "linear_3.weight: 8192 elements\n",
            "linear_3.bias: 64 elements\n",
            "linear_4.weight: 2048 elements\n",
            "linear_4.bias: 32 elements\n",
            "linear_5.weight: 320 elements\n",
            "linear_5.bias: 10 elements\n",
            "\n",
            "Total Trainable Parameters: 244522!\n"
          ]
        }
      ],
      "source": [
        "from functools import reduce\n",
        "import operator\n",
        "def build_custom_fc_net(inp_dim: int, out_dim: int, hidden_fc_dim: List[int]):\n",
        "    '''\n",
        "    Inputs :\n",
        "    \n",
        "    inp_dim: Shape of the input dimensions (in MNIST case 28*28)\n",
        "    out_dim: Desired classification classes (in MNIST case 10)\n",
        "    hidden_fc_dim: List of the intermediate dimension shapes (list of integers). Try different values and see the shapes'\n",
        "    \n",
        "    Return: nn.Sequential (final custom model)\n",
        "    '''\n",
        "    assert type(hidden_fc_dim) == list, \"Please define hidden_fc_dim as list of integers\"\n",
        "    layers = []\n",
        "    layers.append((f'flatten', nn.Flatten()))\n",
        "    # If no hidden layer is required\n",
        "    if len(hidden_fc_dim) == 0:\n",
        "        layers.append((f'linear',nn.Linear(math.prod(inp_dim),out_dim)))\n",
        "        layers.append((f'activation',nn.LogSoftmax()))\n",
        "    else:\n",
        "        # Loop over hidden dimensions and add layers\n",
        "        for idx, dim in enumerate(hidden_fc_dim):\n",
        "            if idx == 0:\n",
        "\n",
        "                layers.append((f'linear_{idx+1}',nn.Linear(reduce(operator.mul, inp_dim),dim)))\n",
        "                layers.append((f'activation_{idx+1}',nn.ReLU()))\n",
        "            else:\n",
        "                layers.append((f'linear_{idx+1}',nn.Linear(hidden_fc_dim[idx-1],dim)))\n",
        "                layers.append((f'activation_{idx+1}',nn.ReLU()))\n",
        "        layers.append((f'linear_{idx+2}',nn.Linear(dim,out_dim)))\n",
        "        layers.append((f'activation_{idx+2}',nn.LogSoftmax()))\n",
        "        \n",
        "    model =  nn.Sequential(OrderedDict(layers))\n",
        "    return model\n",
        "\n",
        "# TO-DO build different networks (atleast 3) and see the parameters\n",
        "#(You don't have to understand the function above. It is a generic way to build a FC-Net)\n",
        "\n",
        "\n",
        "fc_net_custom1 = build_custom_fc_net(inp_dim=(1,28,28), out_dim=10, hidden_fc_dim=[128,64,32])\n",
        "view_network_parameters(fc_net_custom1)\n",
        "fc_net_custom1 = build_custom_fc_net(inp_dim=(1,28,28), out_dim=10, hidden_fc_dim=[85,64,32])\n",
        "view_network_parameters(fc_net_custom1)\n",
        "fc_net_custom2 = build_custom_fc_net(inp_dim=(1,28,28), out_dim=10, hidden_fc_dim=[64,32])\n",
        "view_network_parameters(fc_net_custom2)\n",
        "\n",
        "fc_net_custom3 = build_custom_fc_net(inp_dim=(1,28,28), out_dim=10, hidden_fc_dim=[256,128,64,32])\n",
        "view_network_parameters(fc_net_custom3)"
      ]
    },
    {
      "cell_type": "markdown",
      "source": [
        "**Decreasing the Hidden layer reduced the number of trainable parameters, and increasing the hidden layer increased the trainable parameters. This was seen earlier as well in our first experiment during parameter changes.**"
      ],
      "metadata": {
        "id": "GZPDa3O8swnp"
      },
      "id": "GZPDa3O8swnp"
    },
    {
      "cell_type": "markdown",
      "id": "71c48647",
      "metadata": {
        "id": "71c48647"
      },
      "source": [
        "## Let's train the models to see their performace"
      ]
    },
    {
      "cell_type": "code",
      "execution_count": 34,
      "id": "94ae412d",
      "metadata": {
        "id": "94ae412d",
        "colab": {
          "base_uri": "https://localhost:8080/",
          "height": 484,
          "referenced_widgets": [
            "a471c011afc44600b808861d30bf9931",
            "8a5668fb464049e3b453d5943cc41084",
            "eceac5a8725c4579bbd8bc2b3d038d29",
            "573c62a5f47b46d79329c21fa33f947a",
            "bfa295467cdf4da4b73e29d95e45f049",
            "863d158d384a468aa2b7c8d7f5fa80a0",
            "cc4decfb42a7483981a57664abc182de",
            "9ddec6fd07a74985a170d5def32f9299",
            "b7a82b144cc84b68ad80c872705703a6",
            "f108e0aa23d84fcc83d9959cc7d0a30b",
            "d104aa58619e413ca38c43f6a80d67d4",
            "efc4dda8113d4f2ca1cd6a3cb2471553",
            "5e5062897efd4435a3379b501f5802b3",
            "3d66ab2244514abab8742da4a87397d4",
            "adf0ae745ea84b71bec7e0d4bd3a801d",
            "5cc8938a08034c509cc37cf991dde858",
            "1d9f3baef8ba4cae9bf50a6635fa579c",
            "621d1f82741f447bb5b7a215e9a6cffc",
            "a7d5b3a9ad9d4643bc0bd76da554dd58",
            "e18efa5641e849559bb7605a9df87d23",
            "02cd473fdd5448ff8af7bedc236900e1",
            "5a92f38fb6c34a25a649b044bcd0dcbe",
            "afa9984e3eb44c9a9ef3770bb2dd1aec",
            "723f05758f0040f79783d3e6fd346881",
            "99f1123dafdd41938afe70c47fd45988",
            "c74ae60e9d1440d2b499e1ec17c3a03f",
            "9617cb001d0e4a538dcfac0545c7a1e1",
            "f8af41b6fe9f4ec384d4a84ecf991ca8",
            "3ee703366ffd4039900ee95c1ecd8205",
            "367bad05479a441b8cf019721b3298bf",
            "c20f17d1e852496f8ac43645074864e1",
            "5276fc7056aa44fca6b17dd9cf68312b",
            "9ce2dc05d56a4e1c98bc9f999aab24a4",
            "1355927d26ea4802b97877888f8d3d6b",
            "085162c4fe874630bfa43f70fef98118",
            "54c899c6caa54e0aaedc6a22277c9cb9",
            "563e03118e2c42ff842e67faf6cef72c",
            "3fd733868872419cb8997d5d3ad33b7b",
            "b5bfa5f2bc2548fea86f6896a7e358e8",
            "b9d9aa85766242588f37ec0135f7ae7b",
            "2018a8ad493447d6bede30c88aca903d",
            "da8f7efa67aa4eaa80d384da621824e7",
            "94c377bdcbca4fe7bdd4234f54182955",
            "5f882624d3f146a7806d348090f396f2"
          ]
        },
        "outputId": "1554a45d-234f-4e63-af7b-8168a2f51ccb"
      },
      "outputs": [
        {
          "output_type": "stream",
          "name": "stdout",
          "text": [
            "Downloading http://yann.lecun.com/exdb/mnist/train-images-idx3-ubyte.gz\n",
            "Downloading http://yann.lecun.com/exdb/mnist/train-images-idx3-ubyte.gz to data/MNIST/raw/train-images-idx3-ubyte.gz\n"
          ]
        },
        {
          "output_type": "display_data",
          "data": {
            "text/plain": [
              "  0%|          | 0/9912422 [00:00<?, ?it/s]"
            ],
            "application/vnd.jupyter.widget-view+json": {
              "version_major": 2,
              "version_minor": 0,
              "model_id": "a471c011afc44600b808861d30bf9931"
            }
          },
          "metadata": {}
        },
        {
          "output_type": "stream",
          "name": "stdout",
          "text": [
            "Extracting data/MNIST/raw/train-images-idx3-ubyte.gz to data/MNIST/raw\n",
            "\n",
            "Downloading http://yann.lecun.com/exdb/mnist/train-labels-idx1-ubyte.gz\n",
            "Downloading http://yann.lecun.com/exdb/mnist/train-labels-idx1-ubyte.gz to data/MNIST/raw/train-labels-idx1-ubyte.gz\n"
          ]
        },
        {
          "output_type": "display_data",
          "data": {
            "text/plain": [
              "  0%|          | 0/28881 [00:00<?, ?it/s]"
            ],
            "application/vnd.jupyter.widget-view+json": {
              "version_major": 2,
              "version_minor": 0,
              "model_id": "efc4dda8113d4f2ca1cd6a3cb2471553"
            }
          },
          "metadata": {}
        },
        {
          "output_type": "stream",
          "name": "stdout",
          "text": [
            "Extracting data/MNIST/raw/train-labels-idx1-ubyte.gz to data/MNIST/raw\n",
            "\n",
            "Downloading http://yann.lecun.com/exdb/mnist/t10k-images-idx3-ubyte.gz\n",
            "Downloading http://yann.lecun.com/exdb/mnist/t10k-images-idx3-ubyte.gz to data/MNIST/raw/t10k-images-idx3-ubyte.gz\n"
          ]
        },
        {
          "output_type": "display_data",
          "data": {
            "text/plain": [
              "  0%|          | 0/1648877 [00:00<?, ?it/s]"
            ],
            "application/vnd.jupyter.widget-view+json": {
              "version_major": 2,
              "version_minor": 0,
              "model_id": "afa9984e3eb44c9a9ef3770bb2dd1aec"
            }
          },
          "metadata": {}
        },
        {
          "output_type": "stream",
          "name": "stdout",
          "text": [
            "Extracting data/MNIST/raw/t10k-images-idx3-ubyte.gz to data/MNIST/raw\n",
            "\n",
            "Downloading http://yann.lecun.com/exdb/mnist/t10k-labels-idx1-ubyte.gz\n",
            "Downloading http://yann.lecun.com/exdb/mnist/t10k-labels-idx1-ubyte.gz to data/MNIST/raw/t10k-labels-idx1-ubyte.gz\n"
          ]
        },
        {
          "output_type": "display_data",
          "data": {
            "text/plain": [
              "  0%|          | 0/4542 [00:00<?, ?it/s]"
            ],
            "application/vnd.jupyter.widget-view+json": {
              "version_major": 2,
              "version_minor": 0,
              "model_id": "1355927d26ea4802b97877888f8d3d6b"
            }
          },
          "metadata": {}
        },
        {
          "output_type": "stream",
          "name": "stdout",
          "text": [
            "Extracting data/MNIST/raw/t10k-labels-idx1-ubyte.gz to data/MNIST/raw\n",
            "\n",
            "Datatype of the dataset object: <class 'torchvision.datasets.mnist.MNIST'>\n",
            "Number of samples in training data: 60000\n",
            "Number of samples in test data: 10000\n"
          ]
        }
      ],
      "source": [
        "# downloading mnist into folder\n",
        "data_dir = 'data' # make sure that this folder is created in your working dir\n",
        "# transform the PIL images to tensor using torchvision.transform.toTensor method\n",
        "train_data = torchvision.datasets.MNIST(data_dir, train=True, download=True, transform=torchvision.transforms.Compose([torchvision.transforms.ToTensor()]))\n",
        "test_data  = torchvision.datasets.MNIST(data_dir, train=False, download=True, transform=torchvision.transforms.Compose([torchvision.transforms.ToTensor()]))\n",
        "print(f'Datatype of the dataset object: {type(train_data)}')\n",
        "# check the length of dataset\n",
        "n_train_samples = len(train_data)\n",
        "print(f'Number of samples in training data: {len(train_data)}')\n",
        "print(f'Number of samples in test data: {len(test_data)}')\n",
        "# Check the format of dataset\n",
        "#print(f'Foramt of the dataset: \\n {train_data}')\n",
        "\n",
        "val_split = .2\n",
        "batch_size=256 \n",
        "\n",
        "train_data_, val_data = random_split(train_data, [int(n_train_samples*(1-val_split)), int(n_train_samples*val_split)])\n",
        "\n",
        "train_loader = torch.utils.data.DataLoader(train_data_, batch_size=batch_size,shuffle=True)\n",
        "val_loader = torch.utils.data.DataLoader(val_data, batch_size=batch_size,shuffle=True)\n",
        "test_loader = torch.utils.data.DataLoader(test_data, batch_size=batch_size,shuffle=True)"
      ]
    },
    {
      "cell_type": "markdown",
      "id": "0b94c083",
      "metadata": {
        "id": "0b94c083"
      },
      "source": [
        "### Displaying the loaded dataset"
      ]
    },
    {
      "cell_type": "code",
      "execution_count": 35,
      "id": "a6e15476",
      "metadata": {
        "id": "a6e15476",
        "colab": {
          "base_uri": "https://localhost:8080/",
          "height": 284
        },
        "outputId": "0d49731c-c0f0-4dc3-fe3b-97ee8558166d"
      },
      "outputs": [
        {
          "output_type": "display_data",
          "data": {
            "text/plain": [
              "<Figure size 432x288 with 6 Axes>"
            ],
            "image/png": "[encoded data removed]"
          },
          "metadata": {}
        }
      ],
      "source": [
        "import matplotlib.pyplot as plt\n",
        "\n",
        "fig = plt.figure()\n",
        "for i in range(6):\n",
        "  plt.subplot(2, 3, i+1)\n",
        "  plt.tight_layout()\n",
        "  plt.imshow(train_data[i][0][0], cmap='gray', interpolation='none')\n",
        "  plt.title(\"Class Label: {}\".format(train_data[i][1]))\n",
        "  plt.xticks([])\n",
        "  plt.yticks([])\n"
      ]
    },
    {
      "cell_type": "markdown",
      "id": "524851bc",
      "metadata": {
        "id": "524851bc"
      },
      "source": [
        "## Function to train the model"
      ]
    },
    {
      "cell_type": "code",
      "execution_count": 36,
      "id": "718c5a83",
      "metadata": {
        "id": "718c5a83"
      },
      "outputs": [],
      "source": [
        "def train_model(model, train_loader, device, loss_fn, optimizer, input_dim=(-1,1,28,28)):\n",
        "    model.train()\n",
        "    # Initiate a loss monitor\n",
        "    train_loss = []\n",
        "    # Iterate the dataloader (we do not need the label values, this is unsupervised learning and not supervised classification)\n",
        "    for images, labels in train_loader: # the variable `labels` will be used for customised training\n",
        "        # reshape input\n",
        "        images = torch.reshape(images,input_dim)\n",
        "        images = images.to(device)\n",
        "        labels = labels.to(device)\n",
        "        # predict the class\n",
        "        predicted = model(images)\n",
        "        loss = loss_fn(predicted, labels)\n",
        "        # Backward pass (back propagation)\n",
        "        optimizer.zero_grad()\n",
        "        loss.backward()\n",
        "        optimizer.step()       \n",
        "        wandb.log({\"Training Loss\": loss})\n",
        "        wandb.watch(model)\n",
        "        train_loss.append(loss.detach().cpu().numpy())\n",
        "    return np.mean(train_loss)"
      ]
    },
    {
      "cell_type": "markdown",
      "id": "802d74a4",
      "metadata": {
        "id": "802d74a4"
      },
      "source": [
        "## Function to test the model"
      ]
    },
    {
      "cell_type": "code",
      "execution_count": 37,
      "id": "9f24a06a",
      "metadata": {
        "id": "9f24a06a"
      },
      "outputs": [],
      "source": [
        "# Testing Function\n",
        "def test_model(model, test_loader, device, loss_fn, input_dim=(-1,1,28,28)):\n",
        "    # Set evaluation mode for encoder and decoder\n",
        "    model.eval()\n",
        "    with torch.no_grad(): # No need to track the gradients\n",
        "        # Define the lists to store the outputs for each batch\n",
        "        predicted = []\n",
        "        actual = []\n",
        "        for images, labels in test_loader:\n",
        "            # reshape input\n",
        "            images = torch.reshape(images,input_dim)\n",
        "            images = images.to(device)\n",
        "            labels = labels.to(device)\n",
        "            ## predict the label\n",
        "            pred = model(images)\n",
        "            # Append the network output and the original image to the lists\n",
        "            predicted.append(pred.cpu())\n",
        "            actual.append(labels.cpu())\n",
        "        # Create a single tensor with all the values in the lists\n",
        "        predicted = torch.cat(predicted)\n",
        "        actual = torch.cat(actual) \n",
        "        # Evaluate global loss\n",
        "        val_loss = loss_fn(predicted, actual)\n",
        "    return val_loss.data"
      ]
    },
    {
      "cell_type": "markdown",
      "id": "bfdd1864",
      "metadata": {
        "id": "bfdd1864"
      },
      "source": [
        "Before we start training let's delete the huge FC-Net we built and build a reasonable FC-Net (You learnt why such larger networks are not reasonable in the previous notebook)"
      ]
    },
    {
      "cell_type": "code",
      "execution_count": 38,
      "id": "51fca7cc",
      "metadata": {
        "id": "51fca7cc"
      },
      "outputs": [],
      "source": [
        "del fc_net_custom1, fc_net_custom2, fc_net_custom3\n",
        "torch.cuda.empty_cache()\n",
        "# Building a reasonable fully connected network\n",
        "fc_net = build_custom_fc_net(inp_dim=(1,28,28), out_dim=10, hidden_fc_dim=[128,64,32])"
      ]
    },
    {
      "cell_type": "markdown",
      "id": "6bc501cf",
      "metadata": {
        "id": "6bc501cf"
      },
      "source": [
        "<b>Exercise 3.1.5:</b> \n",
        "Code the `weight_init_xavier` function by referring to https://pytorch.org/docs/stable/nn.init.html. Replace the weight initializations to your own function.\n"
      ]
    },
    {
      "cell_type": "code",
      "execution_count": 39,
      "id": "60636ac1",
      "metadata": {
        "id": "60636ac1",
        "colab": {
          "base_uri": "https://localhost:8080/"
        },
        "outputId": "24efc001-9f8a-4969-97a6-160dfd5805a7"
      },
      "outputs": [
        {
          "output_type": "stream",
          "name": "stdout",
          "text": [
            "Selected device: cuda\n"
          ]
        },
        {
          "output_type": "stream",
          "name": "stderr",
          "text": [
            "/usr/local/lib/python3.7/dist-packages/ipykernel_launcher.py:21: UserWarning: nn.init.xavier_uniform is now deprecated in favor of nn.init.xavier_uniform_.\n"
          ]
        }
      ],
      "source": [
        "import random\n",
        "\n",
        "### Set the random seed for reproducible results\n",
        "torch.manual_seed(0)\n",
        "# Choosing a device based on the env and torch setup\n",
        "device = torch.device(\"cuda\") if torch.cuda.is_available() else torch.device(\"cpu\")\n",
        "print(f'Selected device: {device}')\n",
        "\n",
        "def weight_init_zero(m):\n",
        "    if isinstance(m, nn.Linear) or isinstance(m, nn.Conv2d):\n",
        "        torch.nn.init.constant_(m.weight, 0.0)\n",
        "        m.bias.data.fill_(0.01)\n",
        "\n",
        "def weight_init_xavier(m):\n",
        "  '''\n",
        "  TO-DO: please add code below to add xavier uniform initialization and remove the 'pass'\n",
        "  \n",
        "  '''\n",
        "  if isinstance(m, nn.Linear) or isinstance(m, nn.Conv2d):\n",
        "\n",
        "    torch.nn.init.xavier_uniform(m.weight)\n",
        "    m.bias.data.fill_(0.01)\n",
        "    '''if isinstance(m, nn.Linear):\n",
        "      input, output = m.in_features, m.out_features\n",
        "    else:\n",
        "      input, output = m.in_channels, m.out_channels\n",
        "    val = random.uniform(-(math.sqrt(6)/math.sqrt(input+output)),(math.sqrt(6)/math.sqrt(input+output)))\n",
        "    torch.nn.init.constant_(m.weight, val)'''\n",
        "    \n",
        "fc_net.to(device)\n",
        "conv_net.to(device)\n",
        "\n",
        "# Apply the weight initialization\n",
        "fc_net.apply(weight_init_zero)\n",
        "conv_net.apply(weight_init_zero)\n",
        "\n",
        "# Apply the xavier weight initialization\n",
        "#TO-DO: Add your function here\n",
        "fc_net.apply(weight_init_xavier)\n",
        "conv_net.apply(weight_init_xavier)\n",
        "\n",
        "\n",
        "# Take the parameters for optimiser\n",
        "params_to_optimize_fc = [\n",
        "    {'params': fc_net.parameters()}\n",
        "]\n",
        "\n",
        "params_to_optimize_conv = [\n",
        "    {'params': conv_net.parameters()}\n",
        "]\n",
        "### Define the loss function\n",
        "loss_fn = torch.nn.NLLLoss()\n",
        "### Define an optimizer (both for the encoder and the decoder!)\n",
        "lr= 0.001\n",
        "\n",
        "optim_fc = torch.optim.Adam(params_to_optimize_fc, lr=lr, weight_decay=1e-05)\n",
        "optim_conv = torch.optim.Adam(params_to_optimize_conv, lr=lr, weight_decay=1e-05)\n",
        "num_epochs = 30\n",
        "wandb.config = {\n",
        "  \"learning_rate\": lr,\n",
        "  \"epochs\": num_epochs,\n",
        "  \"batch_size\": batch_size\n",
        "}"
      ]
    },
    {
      "cell_type": "markdown",
      "id": "53753ff1",
      "metadata": {
        "id": "53753ff1"
      },
      "source": [
        "# Training the Convolutional Neural Networks"
      ]
    },
    {
      "cell_type": "code",
      "execution_count": 40,
      "id": "a9616b62",
      "metadata": {
        "scrolled": true,
        "id": "a9616b62",
        "colab": {
          "base_uri": "https://localhost:8080/"
        },
        "outputId": "385cfcfa-1c68-46da-8d54-51a39b8e48eb"
      },
      "outputs": [
        {
          "output_type": "stream",
          "name": "stdout",
          "text": [
            "Conv Net training started\n",
            "Epoch 1/30 : train loss 0.705 \t val loss 0.264\n",
            "Epoch 2/30 : train loss 0.224 \t val loss 0.178\n",
            "Epoch 3/30 : train loss 0.150 \t val loss 0.131\n",
            "Epoch 4/30 : train loss 0.111 \t val loss 0.092\n",
            "Epoch 5/30 : train loss 0.090 \t val loss 0.084\n",
            "Epoch 6/30 : train loss 0.075 \t val loss 0.067\n",
            "Epoch 7/30 : train loss 0.065 \t val loss 0.079\n",
            "Epoch 8/30 : train loss 0.058 \t val loss 0.059\n",
            "Epoch 9/30 : train loss 0.052 \t val loss 0.061\n",
            "Epoch 10/30 : train loss 0.046 \t val loss 0.057\n",
            "Epoch 11/30 : train loss 0.042 \t val loss 0.052\n",
            "Epoch 12/30 : train loss 0.040 \t val loss 0.057\n",
            "Epoch 13/30 : train loss 0.036 \t val loss 0.052\n",
            "Epoch 14/30 : train loss 0.034 \t val loss 0.048\n",
            "Epoch 15/30 : train loss 0.029 \t val loss 0.050\n",
            "Epoch 16/30 : train loss 0.027 \t val loss 0.046\n",
            "Epoch 17/30 : train loss 0.025 \t val loss 0.061\n",
            "Epoch 18/30 : train loss 0.023 \t val loss 0.050\n",
            "Epoch 19/30 : train loss 0.019 \t val loss 0.052\n",
            "Epoch 20/30 : train loss 0.018 \t val loss 0.048\n",
            "Epoch 21/30 : train loss 0.017 \t val loss 0.071\n",
            "Epoch 22/30 : train loss 0.017 \t val loss 0.059\n",
            "Epoch 23/30 : train loss 0.015 \t val loss 0.057\n",
            "Epoch 24/30 : train loss 0.016 \t val loss 0.052\n",
            "Epoch 25/30 : train loss 0.012 \t val loss 0.055\n",
            "Epoch 26/30 : train loss 0.011 \t val loss 0.058\n",
            "Epoch 27/30 : train loss 0.011 \t val loss 0.057\n",
            "Epoch 28/30 : train loss 0.011 \t val loss 0.059\n",
            "Epoch 29/30 : train loss 0.010 \t val loss 0.065\n",
            "Epoch 30/30 : train loss 0.009 \t val loss 0.060\n",
            "Conv Net training done in 698.458 seconds!\n"
          ]
        }
      ],
      "source": [
        "print('Conv Net training started')\n",
        "history_conv = {'train_loss':[],'val_loss':[]}\n",
        "start_time = datetime.datetime.now()\n",
        "\n",
        "for epoch in range(num_epochs):\n",
        "    ### Training \n",
        "    \n",
        "    train_loss = train_model(\n",
        "        model=conv_net,\n",
        "        train_loader=train_loader,\n",
        "        device=device,\n",
        "        loss_fn=loss_fn,\n",
        "        optimizer=optim_conv,\n",
        "        input_dim=(-1,1,28,28))\n",
        "    ### Validation  (use the testing function)\n",
        "    val_loss = test_model(\n",
        "        model=conv_net,\n",
        "        test_loader=test_loader,\n",
        "        device=device,\n",
        "        loss_fn=loss_fn,\n",
        "        input_dim=(-1,1,28,28))\n",
        "    # Print Losses \n",
        "    print(f'Epoch {epoch+1}/{num_epochs} : train loss {train_loss:.3f} \\t val loss {val_loss:.3f}')\n",
        "    history_conv['train_loss'].append(train_loss)\n",
        "    history_conv['val_loss'].append(val_loss)\n",
        "    \n",
        "    \n",
        "print(f'Conv Net training done in {(datetime.datetime.now()-start_time).total_seconds():.3f} seconds!')"
      ]
    },
    {
      "cell_type": "markdown",
      "id": "f1465fbd",
      "metadata": {
        "id": "f1465fbd"
      },
      "source": [
        "### Visualizing Training Progress of Conv Net (Also check out your wandb.ai homepage)"
      ]
    },
    {
      "cell_type": "code",
      "execution_count": 41,
      "id": "c1622763",
      "metadata": {
        "id": "c1622763",
        "colab": {
          "base_uri": "https://localhost:8080/",
          "height": 297
        },
        "outputId": "0d22af68-5d29-4b5a-f726-8ae5aa4c75bd"
      },
      "outputs": [
        {
          "output_type": "execute_result",
          "data": {
            "text/plain": [
              "Text(0, 0.5, 'Negative Log Likelihood Loss')"
            ]
          },
          "metadata": {},
          "execution_count": 41
        },
        {
          "output_type": "display_data",
          "data": {
            "text/plain": [
              "<Figure size 432x288 with 1 Axes>"
            ],
            "image/png": "[encoded data removed]"
          },
          "metadata": {
            "needs_background": "light"
          }
        }
      ],
      "source": [
        "fig = plt.figure()\n",
        "plt.plot(history_conv['train_loss'], color='blue')\n",
        "plt.plot(history_conv['val_loss'], color='red')\n",
        "plt.legend(['Train Loss', 'Test Loss'], loc='upper right')\n",
        "plt.xlabel('Epochs')\n",
        "plt.ylabel('Negative Log Likelihood Loss')"
      ]
    },
    {
      "cell_type": "markdown",
      "id": "f163e64a",
      "metadata": {
        "id": "f163e64a"
      },
      "source": [
        "### Visualizing Predictions of Conv Net"
      ]
    },
    {
      "cell_type": "code",
      "execution_count": 42,
      "id": "89ac3520",
      "metadata": {
        "scrolled": false,
        "id": "89ac3520",
        "colab": {
          "base_uri": "https://localhost:8080/",
          "height": 356
        },
        "outputId": "33418ca7-d6f7-40a9-ecf0-7623f953b156"
      },
      "outputs": [
        {
          "output_type": "display_data",
          "data": {
            "text/plain": [
              "<Figure size 360x360 with 9 Axes>"
            ],
            "image/png": "[encoded data removed]"
          },
          "metadata": {}
        }
      ],
      "source": [
        "examples = enumerate(test_loader)\n",
        "batch_idx, (example_data, example_targets) = next(examples)\n",
        "with torch.no_grad():\n",
        "    example_data = example_data.to(device)\n",
        "    output = conv_net(example_data)\n",
        "example_data = example_data.cpu().detach().numpy()\n",
        "fig = plt.figure(figsize=(5,5))\n",
        "for i in range(9):\n",
        "    plt.subplot(3,3,i+1)\n",
        "    plt.tight_layout()\n",
        "    plt.imshow(example_data[i][0], cmap='gray',interpolation='none')\n",
        "    plt.title(\"Prediction: {}\".format(\n",
        "    output.data.max(1, keepdim=True)[1][i].item()))\n",
        "    plt.xticks([])\n",
        "    plt.yticks([])"
      ]
    },
    {
      "cell_type": "markdown",
      "id": "eacd45fe",
      "metadata": {
        "id": "eacd45fe"
      },
      "source": [
        "# Training the Fully-Connected Neural Networks\n",
        "\n",
        "<b>Exercise 3.1.6:</b> Train the fully connected neural network and analyse it"
      ]
    },
    {
      "cell_type": "code",
      "execution_count": 43,
      "id": "4ee8d12c",
      "metadata": {
        "id": "4ee8d12c",
        "colab": {
          "base_uri": "https://localhost:8080/"
        },
        "outputId": "f7f30678-9d3f-4ce0-efbd-fd1a3f2a88f3"
      },
      "outputs": [
        {
          "output_type": "stream",
          "name": "stdout",
          "text": [
            "FC Net training started\n",
            "Epoch 1/30 : train loss 0.505 \t val loss 0.218\n",
            "Epoch 2/30 : train loss 0.184 \t val loss 0.154\n",
            "Epoch 3/30 : train loss 0.127 \t val loss 0.128\n",
            "Epoch 4/30 : train loss 0.101 \t val loss 0.109\n",
            "Epoch 5/30 : train loss 0.081 \t val loss 0.127\n",
            "Epoch 6/30 : train loss 0.067 \t val loss 0.101\n",
            "Epoch 7/30 : train loss 0.056 \t val loss 0.095\n",
            "Epoch 8/30 : train loss 0.046 \t val loss 0.097\n",
            "Epoch 9/30 : train loss 0.039 \t val loss 0.093\n",
            "Epoch 10/30 : train loss 0.033 \t val loss 0.092\n",
            "Epoch 11/30 : train loss 0.027 \t val loss 0.092\n",
            "Epoch 12/30 : train loss 0.022 \t val loss 0.088\n",
            "Epoch 13/30 : train loss 0.018 \t val loss 0.102\n",
            "Epoch 14/30 : train loss 0.015 \t val loss 0.109\n",
            "Epoch 15/30 : train loss 0.015 \t val loss 0.100\n",
            "Epoch 16/30 : train loss 0.011 \t val loss 0.107\n",
            "Epoch 17/30 : train loss 0.008 \t val loss 0.097\n",
            "Epoch 18/30 : train loss 0.009 \t val loss 0.103\n",
            "Epoch 19/30 : train loss 0.012 \t val loss 0.103\n",
            "Epoch 20/30 : train loss 0.011 \t val loss 0.119\n",
            "Epoch 21/30 : train loss 0.006 \t val loss 0.141\n",
            "Epoch 22/30 : train loss 0.008 \t val loss 0.117\n",
            "Epoch 23/30 : train loss 0.011 \t val loss 0.135\n",
            "Epoch 24/30 : train loss 0.012 \t val loss 0.125\n",
            "Epoch 25/30 : train loss 0.007 \t val loss 0.110\n",
            "Epoch 26/30 : train loss 0.005 \t val loss 0.118\n",
            "Epoch 27/30 : train loss 0.001 \t val loss 0.111\n",
            "Epoch 28/30 : train loss 0.001 \t val loss 0.111\n",
            "Epoch 29/30 : train loss 0.001 \t val loss 0.110\n",
            "Epoch 30/30 : train loss 0.000 \t val loss 0.110\n",
            "FC Net training done in 537.276 seconds!\n"
          ]
        }
      ],
      "source": [
        "#TO-DO:Train the fc_net here\n",
        "print('FC Net training started')\n",
        "history_fc = {'train_loss':[],'val_loss':[]}\n",
        "start_time = datetime.datetime.now()\n",
        "\n",
        "for epoch in range(num_epochs):\n",
        "    ### Training \n",
        "    \n",
        "    train_loss = train_model(\n",
        "        model=fc_net,\n",
        "        train_loader=train_loader,\n",
        "        device=device,\n",
        "        loss_fn=loss_fn,\n",
        "        optimizer=optim_fc,\n",
        "        input_dim=(-1,1,28,28))\n",
        "    ### Validation  (use the testing function)\n",
        "    val_loss = test_model(\n",
        "        model=fc_net,\n",
        "        test_loader=test_loader,\n",
        "        device=device,\n",
        "        loss_fn=loss_fn,\n",
        "        input_dim=(-1,1,28,28))\n",
        "    # Print Losses \n",
        "    print(f'Epoch {epoch+1}/{num_epochs} : train loss {train_loss:.3f} \\t val loss {val_loss:.3f}')\n",
        "    history_fc['train_loss'].append(train_loss)\n",
        "    history_fc['val_loss'].append(val_loss)\n",
        "    \n",
        "    \n",
        "print(f'FC Net training done in {(datetime.datetime.now()-start_time).total_seconds():.3f} seconds!')"
      ]
    },
    {
      "cell_type": "markdown",
      "id": "b4c5cd18",
      "metadata": {
        "id": "b4c5cd18"
      },
      "source": [
        "## Visualizing Training Progress of FC Net (Check out your wandb.ai project webpage)"
      ]
    },
    {
      "cell_type": "code",
      "execution_count": 44,
      "id": "926d5e38",
      "metadata": {
        "id": "926d5e38",
        "colab": {
          "base_uri": "https://localhost:8080/",
          "height": 297
        },
        "outputId": "58aa2c9e-f9ff-48fe-e9fb-86ec9e7b33b4"
      },
      "outputs": [
        {
          "output_type": "execute_result",
          "data": {
            "text/plain": [
              "Text(0, 0.5, 'Negative Log Likelihood Loss')"
            ]
          },
          "metadata": {},
          "execution_count": 44
        },
        {
          "output_type": "display_data",
          "data": {
            "text/plain": [
              "<Figure size 432x288 with 1 Axes>"
            ],
            "image/png": "[encoded data removed]"
          },
          "metadata": {
            "needs_background": "light"
          }
        }
      ],
      "source": [
        "# TODO - Visualize the training progress of fc_net\n",
        "fig = plt.figure()\n",
        "plt.plot(history_fc['train_loss'], color='blue')\n",
        "plt.plot(history_fc['val_loss'], color='red')\n",
        "plt.legend(['Train Loss', 'Test Loss'], loc='upper right')\n",
        "plt.xlabel('Epochs')\n",
        "plt.ylabel('Negative Log Likelihood Loss')"
      ]
    },
    {
      "cell_type": "markdown",
      "id": "107c77be",
      "metadata": {
        "id": "107c77be"
      },
      "source": [
        "## Visualizing Predictions of FC Net"
      ]
    },
    {
      "cell_type": "code",
      "execution_count": 45,
      "id": "a6f399e8",
      "metadata": {
        "id": "a6f399e8",
        "colab": {
          "base_uri": "https://localhost:8080/",
          "height": 356
        },
        "outputId": "cef28407-5d54-480d-d28e-492f4be8818d"
      },
      "outputs": [
        {
          "output_type": "display_data",
          "data": {
            "text/plain": [
              "<Figure size 360x360 with 9 Axes>"
            ],
            "image/png": "[encoded data removed]"
          },
          "metadata": {}
        }
      ],
      "source": [
        "# TODO - Visualise the predictions of fc_net\n",
        "examples = enumerate(test_loader)\n",
        "batch_idx, (example_data, example_targets) = next(examples)\n",
        "with torch.no_grad():\n",
        "    example_data = example_data.to(device)\n",
        "    output = fc_net(example_data)\n",
        "example_data = example_data.cpu().detach().numpy()\n",
        "fig = plt.figure(figsize=(5,5))\n",
        "for i in range(9):\n",
        "    plt.subplot(3,3,i+1)\n",
        "    plt.tight_layout()\n",
        "    plt.imshow(example_data[i][0], cmap='gray',interpolation='none')\n",
        "    plt.title(\"Prediction: {}\".format(\n",
        "    output.data.max(1, keepdim=True)[1][i].item()))\n",
        "    plt.xticks([])\n",
        "    plt.yticks([])"
      ]
    },
    {
      "cell_type": "markdown",
      "id": "b2981154",
      "metadata": {
        "id": "b2981154"
      },
      "source": [
        "<b>Exercise 3.1.7</b>: What are the training times for each of the model? Did both the models take similar times? If yes, why? Shouldn't CNN train faster given it's number of weights to train?"
      ]
    },
    {
      "cell_type": "code",
      "execution_count": 46,
      "id": "3528f2d9",
      "metadata": {
        "id": "3528f2d9"
      },
      "outputs": [],
      "source": [
        "# FC net takes more time than the ConvNet, but not a lot as we would have impression based on the number of trainable parameters.  ConvNet took time = 990 seconds where as FCNet took 1021.772 seconds. \n",
        "# This is because there are lot many multiplications happening in the ConvNet at the conv2d, from One channel it gives output of 16 channels so those many multiplications happen with kernel which\n",
        "# is of size 3*3."
      ]
    },
    {
      "cell_type": "code",
      "source": [
        "'''\n",
        "The convolution operation are much more complex than dense layer. Convolution is the process of adding each element of the image to its local neighbors, weighted by the kernel. \n",
        "Every convolution is essentially a multiple nested loop. \n",
        "'''"
      ],
      "metadata": {
        "colab": {
          "base_uri": "https://localhost:8080/",
          "height": 53
        },
        "id": "VLxwEyZh_xoL",
        "outputId": "555419ea-7ae7-48e8-942d-7bbf599e0f35"
      },
      "id": "VLxwEyZh_xoL",
      "execution_count": 47,
      "outputs": [
        {
          "output_type": "execute_result",
          "data": {
            "text/plain": [
              "'\\nThe convolution operation are much more complex than dense layer. Convolution is the process of adding each element of the image to its local neighbors, weighted by the kernel. \\nEvery convolution is essentially a multiple nested loop. \\n'"
            ],
            "application/vnd.google.colaboratory.intrinsic+json": {
              "type": "string"
            }
          },
          "metadata": {},
          "execution_count": 47
        }
      ]
    },
    {
      "cell_type": "markdown",
      "id": "b33605f1",
      "metadata": {
        "id": "b33605f1"
      },
      "source": [
        "## Let's see how the models perform under translation"
      ]
    },
    {
      "cell_type": "markdown",
      "id": "7a4d24b6",
      "metadata": {
        "id": "7a4d24b6"
      },
      "source": [
        "In principle, one of the advantages of convolutions is that they are equivariant under translation which means that a function composed out of convolutions should invariant under translation.\n",
        "\n",
        "<b>Exercise 3.1.8</b>: In practice, however, we might not see perfect invariance under translation.  What aspect of our network leads to imperfect invariance?"
      ]
    },
    {
      "cell_type": "markdown",
      "id": "889cbdfc",
      "metadata": {
        "id": "889cbdfc"
      },
      "source": [
        "Lets start with what translation Invariance and translation equivariant means\n",
        "* Translation Invariance : $f(x) = y$ and $f(x-i) = y$\n",
        "* Translation Equivariant : $f(x) = y$ and $f(x-i) = y-i$\n",
        "\n",
        "Convolutions are both translation invariant and equivariant, but normally in convolution network the end hidden layers are fully connected layers which leads to imperfect invariance. Example if for 0 we have vertical translation and the bottom part of 0 is cut, in that case it doesnt give correct solution."
      ]
    },
    {
      "cell_type": "markdown",
      "id": "b8a0d35b",
      "metadata": {
        "id": "b8a0d35b"
      },
      "source": [
        "We will next measure the sensitivity  of the convolutional network to translation in practice, and we will compare it to the fully-connected version. "
      ]
    },
    {
      "cell_type": "code",
      "execution_count": 48,
      "id": "9e8583d7",
      "metadata": {
        "id": "9e8583d7"
      },
      "outputs": [],
      "source": [
        "## function to check accuracies for unit translation\n",
        "def shiftVsAccuracy(model, test_loader, device, loss_fn, shifts = 12, input_dim=(-1,1,28,28)):\n",
        "    # Set evaluation mode for encoder and decoder\n",
        "    accuracies = []\n",
        "    shifted = []\n",
        "    for i in range(-shifts,shifts):\n",
        "        model.eval()\n",
        "        correct = 0\n",
        "        total = 0\n",
        "        with torch.no_grad(): # No need to track the gradients\n",
        "            # Define the lists to store the outputs for each batch\n",
        "            predicted = []\n",
        "            actual = []\n",
        "            for images, labels in test_loader:\n",
        "                # reshape input\n",
        "                images = torch.roll(images,shifts=i, dims=2)\n",
        "                if i == 0:\n",
        "                    pass\n",
        "                elif i > 0:\n",
        "                    images[:,:,:i,:] = 0\n",
        "                else:\n",
        "                    images[:,:,i:,:] = 0\n",
        "                images = torch.reshape(images,input_dim)\n",
        "                images = images.to(device)\n",
        "                labels = labels.to(device)\n",
        "                ## predict the label\n",
        "                pred = model(images)\n",
        "                # Append the network output and the original image to the lists\n",
        "                _ , pred = torch.max(pred.data, 1)\n",
        "                total += labels.size(0)\n",
        "                correct += (pred == labels).sum().item()\n",
        "                predicted.append(pred.cpu())\n",
        "                actual.append(labels.cpu())  \n",
        "            shifted.append(images[0][0].cpu())\n",
        "            acc = 100 * correct // total\n",
        "            accuracies.append(acc)\n",
        "    return accuracies,shifted"
      ]
    },
    {
      "cell_type": "code",
      "execution_count": 49,
      "id": "89576a2d",
      "metadata": {
        "id": "89576a2d"
      },
      "outputs": [],
      "source": [
        "accuracies,shifted = shiftVsAccuracy(\n",
        "        model=conv_net,\n",
        "        test_loader=test_loader,\n",
        "        device=device,\n",
        "        shifts=12,\n",
        "        loss_fn=loss_fn,\n",
        "        input_dim=(-1,1,28,28))"
      ]
    },
    {
      "cell_type": "code",
      "execution_count": 50,
      "id": "99e2b0c9",
      "metadata": {
        "id": "99e2b0c9",
        "colab": {
          "base_uri": "https://localhost:8080/",
          "height": 299
        },
        "outputId": "f4e92544-bcb5-4cb5-cbff-69785de5f44e"
      },
      "outputs": [
        {
          "output_type": "execute_result",
          "data": {
            "text/plain": [
              "Text(0.5, 1.0, 'Accuracy Vs Translation')"
            ]
          },
          "metadata": {},
          "execution_count": 50
        },
        {
          "output_type": "display_data",
          "data": {
            "text/plain": [
              "<Figure size 432x288 with 1 Axes>"
            ],
            "image/png": "[encoded data removed]"
          },
          "metadata": {
            "needs_background": "light"
          }
        }
      ],
      "source": [
        "shifts = np.arange(-12,12)\n",
        "plt.plot(shifts,accuracies)\n",
        "plt.title('Accuracy Vs Translation')"
      ]
    },
    {
      "cell_type": "code",
      "execution_count": 51,
      "id": "b2320b45",
      "metadata": {
        "id": "b2320b45",
        "colab": {
          "base_uri": "https://localhost:8080/",
          "height": 885
        },
        "outputId": "1894c272-1ab4-4c48-f6ec-c69731f26f30"
      },
      "outputs": [
        {
          "output_type": "display_data",
          "data": {
            "text/plain": [
              "<Figure size 1440x1440 with 24 Axes>"
            ],
            "image/png": "[encoded data removed]"
          },
          "metadata": {}
        }
      ],
      "source": [
        "fig = plt.figure(figsize=(20,20))\n",
        "plt_num = 0\n",
        "for i in range(-12,12):\n",
        "    plt.subplot(5,6,plt_num+1)\n",
        "    plt.imshow(shifted[plt_num], cmap='gray',interpolation='none')\n",
        "    plt.title(f\"Shifted: {i} Accuracy: {accuracies[plt_num]}\")\n",
        "    plt.xticks([])\n",
        "    plt.yticks([])\n",
        "    plt_num+=1"
      ]
    },
    {
      "cell_type": "code",
      "source": [
        "accuracies_fc,shifted_fc = shiftVsAccuracy(\n",
        "        model=fc_net,\n",
        "        test_loader=test_loader,\n",
        "        device=device,\n",
        "        shifts=12,\n",
        "        loss_fn=loss_fn,\n",
        "        input_dim=(-1,1,28,28))"
      ],
      "metadata": {
        "colab": {
          "base_uri": "https://localhost:8080/"
        },
        "id": "9X862-9WEEvW",
        "outputId": "f65f3b76-ccae-4cf3-a4b0-51d92e36768d"
      },
      "id": "9X862-9WEEvW",
      "execution_count": 52,
      "outputs": [
        {
          "output_type": "stream",
          "name": "stderr",
          "text": [
            "/usr/local/lib/python3.7/dist-packages/torch/nn/modules/container.py:139: UserWarning: Implicit dimension choice for log_softmax has been deprecated. Change the call to include dim=X as an argument.\n",
            "  input = module(input)\n"
          ]
        }
      ]
    },
    {
      "cell_type": "code",
      "source": [
        "shifts = np.arange(-12,12)\n",
        "plt.plot(shifts,accuracies_fc)\n",
        "plt.title('Accuracy Vs Translation')"
      ],
      "metadata": {
        "colab": {
          "base_uri": "https://localhost:8080/",
          "height": 299
        },
        "id": "kIs2pSubEIo9",
        "outputId": "e5915575-488a-4f51-fffc-26c573aaef04"
      },
      "id": "kIs2pSubEIo9",
      "execution_count": 53,
      "outputs": [
        {
          "output_type": "execute_result",
          "data": {
            "text/plain": [
              "Text(0.5, 1.0, 'Accuracy Vs Translation')"
            ]
          },
          "metadata": {},
          "execution_count": 53
        },
        {
          "output_type": "display_data",
          "data": {
            "text/plain": [
              "<Figure size 432x288 with 1 Axes>"
            ],
            "image/png": "[encoded data removed]"
          },
          "metadata": {
            "needs_background": "light"
          }
        }
      ]
    },
    {
      "cell_type": "code",
      "source": [
        "fig = plt.figure(figsize=(20,20))\n",
        "plt_num = 0\n",
        "for i in range(-12,12):\n",
        "    plt.subplot(5,6,plt_num+1)\n",
        "    plt.imshow(shifted_fc[plt_num], cmap='gray',interpolation='none')\n",
        "    plt.title(f\"Shifted: {i} Accuracy: {accuracies_fc[plt_num]}\")\n",
        "    plt.xticks([])\n",
        "    plt.yticks([])\n",
        "    plt_num+=1"
      ],
      "metadata": {
        "colab": {
          "base_uri": "https://localhost:8080/",
          "height": 885
        },
        "id": "rmC2oJZfEJac",
        "outputId": "326c8bd0-73dc-4bd9-959f-a29db2664863"
      },
      "id": "rmC2oJZfEJac",
      "execution_count": 54,
      "outputs": [
        {
          "output_type": "display_data",
          "data": {
            "text/plain": [
              "<Figure size 1440x1440 with 24 Axes>"
            ],
            "image/png": "[encoded data removed]"
          },
          "metadata": {}
        }
      ]
    },
    {
      "cell_type": "markdown",
      "id": "6b217e71",
      "metadata": {
        "id": "6b217e71"
      },
      "source": [
        "<b>Exercise 3.1.8:</b>\n",
        "Do the same for FC-Net and plot the accuracies. Is the rate of accuracy degradation same as Conv-Net? Can you justify why this happened? <br>\n",
        "Clue: You might want to look at the way convolution layers process information"
      ]
    },
    {
      "cell_type": "code",
      "execution_count": 55,
      "id": "80b4cf9a",
      "metadata": {
        "id": "80b4cf9a"
      },
      "outputs": [],
      "source": [
        "# Because we trained the model for just 30 iterations, the FC has learnt more than convnet, but if we train for more iterations we would be able to \n",
        "# see that the accuracy degradation for FCnet will be more than convNet, that is because in convNet the convolutions each node is not connected to \n",
        "# everyother node in the next layer. This leads to situation where the nodes learn small features in the image. Example if we train 1 with Conv2 \n",
        "# it will learn a vertical sobel kernel that will detect or fire when there are straight vertical lines. This leads to translation invariance, \n",
        "# it just needs to see some vertical line. Where as in FC net it takes individual pixels and learns based on that.\n",
        "\n",
        "# But in the case of fully connected network, it tries to learn the image as a whole so a small translation that will result in some part of the image \n",
        "# getting missed or getting rotated will lead to very less accuracy."
      ]
    }
  ],
  "metadata": {
    "kernelspec": {
      "display_name": "Python 3 (ipykernel)",
      "language": "python",
      "name": "python3"
    },
    "language_info": {
      "codemirror_mode": {
        "name": "ipython",
        "version": 3
      },
      "file_extension": ".py",
      "mimetype": "text/x-python",
      "name": "python",
      "nbconvert_exporter": "python",
      "pygments_lexer": "ipython3",
      "version": "3.9.12"
    },
    "colab": {
      "provenance": [],
      "collapsed_sections": [
        "53ab5423",
        "d140bdae",
        "9SjP3CCwpga5",
        "55BauVJRpj3e",
        "YIVPjJISrImm"
      ],
      "include_colab_link": true
    },
    "accelerator": "GPU",
    "gpuClass": "standard",
    "widgets": {
      "application/vnd.jupyter.widget-state+json": {
        "a471c011afc44600b808861d30bf9931": {
          "model_module": "@jupyter-widgets/controls",
          "model_name": "HBoxModel",
          "model_module_version": "1.5.0",
          "state": {
            "_dom_classes": [],
            "_model_module": "@jupyter-widgets/controls",
            "_model_module_version": "1.5.0",
            "_model_name": "HBoxModel",
            "_view_count": null,
            "_view_module": "@jupyter-widgets/controls",
            "_view_module_version": "1.5.0",
            "_view_name": "HBoxView",
            "box_style": "",
            "children": [
              "IPY_MODEL_8a5668fb464049e3b453d5943cc41084",
              "IPY_MODEL_eceac5a8725c4579bbd8bc2b3d038d29",
              "IPY_MODEL_573c62a5f47b46d79329c21fa33f947a"
            ],
            "layout": "IPY_MODEL_bfa295467cdf4da4b73e29d95e45f049"
          }
        },
        "8a5668fb464049e3b453d5943cc41084": {
          "model_module": "@jupyter-widgets/controls",
          "model_name": "HTMLModel",
          "model_module_version": "1.5.0",
          "state": {
            "_dom_classes": [],
            "_model_module": "@jupyter-widgets/controls",
            "_model_module_version": "1.5.0",
            "_model_name": "HTMLModel",
            "_view_count": null,
            "_view_module": "@jupyter-widgets/controls",
            "_view_module_version": "1.5.0",
            "_view_name": "HTMLView",
            "description": "",
            "description_tooltip": null,
            "layout": "IPY_MODEL_863d158d384a468aa2b7c8d7f5fa80a0",
            "placeholder": "​",
            "style": "IPY_MODEL_cc4decfb42a7483981a57664abc182de",
            "value": "100%"
          }
        },
        "eceac5a8725c4579bbd8bc2b3d038d29": {
          "model_module": "@jupyter-widgets/controls",
          "model_name": "FloatProgressModel",
          "model_module_version": "1.5.0",
          "state": {
            "_dom_classes": [],
            "_model_module": "@jupyter-widgets/controls",
            "_model_module_version": "1.5.0",
            "_model_name": "FloatProgressModel",
            "_view_count": null,
            "_view_module": "@jupyter-widgets/controls",
            "_view_module_version": "1.5.0",
            "_view_name": "ProgressView",
            "bar_style": "success",
            "description": "",
            "description_tooltip": null,
            "layout": "IPY_MODEL_9ddec6fd07a74985a170d5def32f9299",
            "max": 9912422,
            "min": 0,
            "orientation": "horizontal",
            "style": "IPY_MODEL_b7a82b144cc84b68ad80c872705703a6",
            "value": 9912422
          }
        },
        "573c62a5f47b46d79329c21fa33f947a": {
          "model_module": "@jupyter-widgets/controls",
          "model_name": "HTMLModel",
          "model_module_version": "1.5.0",
          "state": {
            "_dom_classes": [],
            "_model_module": "@jupyter-widgets/controls",
            "_model_module_version": "1.5.0",
            "_model_name": "HTMLModel",
            "_view_count": null,
            "_view_module": "@jupyter-widgets/controls",
            "_view_module_version": "1.5.0",
            "_view_name": "HTMLView",
            "description": "",
            "description_tooltip": null,
            "layout": "IPY_MODEL_f108e0aa23d84fcc83d9959cc7d0a30b",
            "placeholder": "​",
            "style": "IPY_MODEL_d104aa58619e413ca38c43f6a80d67d4",
            "value": " 9912422/9912422 [00:00&lt;00:00, 87614030.97it/s]"
          }
        },
        "bfa295467cdf4da4b73e29d95e45f049": {
          "model_module": "@jupyter-widgets/base",
          "model_name": "LayoutModel",
          "model_module_version": "1.2.0",
          "state": {
            "_model_module": "@jupyter-widgets/base",
            "_model_module_version": "1.2.0",
            "_model_name": "LayoutModel",
            "_view_count": null,
            "_view_module": "@jupyter-widgets/base",
            "_view_module_version": "1.2.0",
            "_view_name": "LayoutView",
            "align_content": null,
            "align_items": null,
            "align_self": null,
            "border": null,
            "bottom": null,
            "display": null,
            "flex": null,
            "flex_flow": null,
            "grid_area": null,
            "grid_auto_columns": null,
            "grid_auto_flow": null,
            "grid_auto_rows": null,
            "grid_column": null,
            "grid_gap": null,
            "grid_row": null,
            "grid_template_areas": null,
            "grid_template_columns": null,
            "grid_template_rows": null,
            "height": null,
            "justify_content": null,
            "justify_items": null,
            "left": null,
            "margin": null,
            "max_height": null,
            "max_width": null,
            "min_height": null,
            "min_width": null,
            "object_fit": null,
            "object_position": null,
            "order": null,
            "overflow": null,
            "overflow_x": null,
            "overflow_y": null,
            "padding": null,
            "right": null,
            "top": null,
            "visibility": null,
            "width": null
          }
        },
        "863d158d384a468aa2b7c8d7f5fa80a0": {
          "model_module": "@jupyter-widgets/base",
          "model_name": "LayoutModel",
          "model_module_version": "1.2.0",
          "state": {
            "_model_module": "@jupyter-widgets/base",
            "_model_module_version": "1.2.0",
            "_model_name": "LayoutModel",
            "_view_count": null,
            "_view_module": "@jupyter-widgets/base",
            "_view_module_version": "1.2.0",
            "_view_name": "LayoutView",
            "align_content": null,
            "align_items": null,
            "align_self": null,
            "border": null,
            "bottom": null,
            "display": null,
            "flex": null,
            "flex_flow": null,
            "grid_area": null,
            "grid_auto_columns": null,
            "grid_auto_flow": null,
            "grid_auto_rows": null,
            "grid_column": null,
            "grid_gap": null,
            "grid_row": null,
            "grid_template_areas": null,
            "grid_template_columns": null,
            "grid_template_rows": null,
            "height": null,
            "justify_content": null,
            "justify_items": null,
            "left": null,
            "margin": null,
            "max_height": null,
            "max_width": null,
            "min_height": null,
            "min_width": null,
            "object_fit": null,
            "object_position": null,
            "order": null,
            "overflow": null,
            "overflow_x": null,
            "overflow_y": null,
            "padding": null,
            "right": null,
            "top": null,
            "visibility": null,
            "width": null
          }
        },
        "cc4decfb42a7483981a57664abc182de": {
          "model_module": "@jupyter-widgets/controls",
          "model_name": "DescriptionStyleModel",
          "model_module_version": "1.5.0",
          "state": {
            "_model_module": "@jupyter-widgets/controls",
            "_model_module_version": "1.5.0",
            "_model_name": "DescriptionStyleModel",
            "_view_count": null,
            "_view_module": "@jupyter-widgets/base",
            "_view_module_version": "1.2.0",
            "_view_name": "StyleView",
            "description_width": ""
          }
        },
        "9ddec6fd07a74985a170d5def32f9299": {
          "model_module": "@jupyter-widgets/base",
          "model_name": "LayoutModel",
          "model_module_version": "1.2.0",
          "state": {
            "_model_module": "@jupyter-widgets/base",
            "_model_module_version": "1.2.0",
            "_model_name": "LayoutModel",
            "_view_count": null,
            "_view_module": "@jupyter-widgets/base",
            "_view_module_version": "1.2.0",
            "_view_name": "LayoutView",
            "align_content": null,
            "align_items": null,
            "align_self": null,
            "border": null,
            "bottom": null,
            "display": null,
            "flex": null,
            "flex_flow": null,
            "grid_area": null,
            "grid_auto_columns": null,
            "grid_auto_flow": null,
            "grid_auto_rows": null,
            "grid_column": null,
            "grid_gap": null,
            "grid_row": null,
            "grid_template_areas": null,
            "grid_template_columns": null,
            "grid_template_rows": null,
            "height": null,
            "justify_content": null,
            "justify_items": null,
            "left": null,
            "margin": null,
            "max_height": null,
            "max_width": null,
            "min_height": null,
            "min_width": null,
            "object_fit": null,
            "object_position": null,
            "order": null,
            "overflow": null,
            "overflow_x": null,
            "overflow_y": null,
            "padding": null,
            "right": null,
            "top": null,
            "visibility": null,
            "width": null
          }
        },
        "b7a82b144cc84b68ad80c872705703a6": {
          "model_module": "@jupyter-widgets/controls",
          "model_name": "ProgressStyleModel",
          "model_module_version": "1.5.0",
          "state": {
            "_model_module": "@jupyter-widgets/controls",
            "_model_module_version": "1.5.0",
            "_model_name": "ProgressStyleModel",
            "_view_count": null,
            "_view_module": "@jupyter-widgets/base",
            "_view_module_version": "1.2.0",
            "_view_name": "StyleView",
            "bar_color": null,
            "description_width": ""
          }
        },
        "f108e0aa23d84fcc83d9959cc7d0a30b": {
          "model_module": "@jupyter-widgets/base",
          "model_name": "LayoutModel",
          "model_module_version": "1.2.0",
          "state": {
            "_model_module": "@jupyter-widgets/base",
            "_model_module_version": "1.2.0",
            "_model_name": "LayoutModel",
            "_view_count": null,
            "_view_module": "@jupyter-widgets/base",
            "_view_module_version": "1.2.0",
            "_view_name": "LayoutView",
            "align_content": null,
            "align_items": null,
            "align_self": null,
            "border": null,
            "bottom": null,
            "display": null,
            "flex": null,
            "flex_flow": null,
            "grid_area": null,
            "grid_auto_columns": null,
            "grid_auto_flow": null,
            "grid_auto_rows": null,
            "grid_column": null,
            "grid_gap": null,
            "grid_row": null,
            "grid_template_areas": null,
            "grid_template_columns": null,
            "grid_template_rows": null,
            "height": null,
            "justify_content": null,
            "justify_items": null,
            "left": null,
            "margin": null,
            "max_height": null,
            "max_width": null,
            "min_height": null,
            "min_width": null,
            "object_fit": null,
            "object_position": null,
            "order": null,
            "overflow": null,
            "overflow_x": null,
            "overflow_y": null,
            "padding": null,
            "right": null,
            "top": null,
            "visibility": null,
            "width": null
          }
        },
        "d104aa58619e413ca38c43f6a80d67d4": {
          "model_module": "@jupyter-widgets/controls",
          "model_name": "DescriptionStyleModel",
          "model_module_version": "1.5.0",
          "state": {
            "_model_module": "@jupyter-widgets/controls",
            "_model_module_version": "1.5.0",
            "_model_name": "DescriptionStyleModel",
            "_view_count": null,
            "_view_module": "@jupyter-widgets/base",
            "_view_module_version": "1.2.0",
            "_view_name": "StyleView",
            "description_width": ""
          }
        },
        "efc4dda8113d4f2ca1cd6a3cb2471553": {
          "model_module": "@jupyter-widgets/controls",
          "model_name": "HBoxModel",
          "model_module_version": "1.5.0",
          "state": {
            "_dom_classes": [],
            "_model_module": "@jupyter-widgets/controls",
            "_model_module_version": "1.5.0",
            "_model_name": "HBoxModel",
            "_view_count": null,
            "_view_module": "@jupyter-widgets/controls",
            "_view_module_version": "1.5.0",
            "_view_name": "HBoxView",
            "box_style": "",
            "children": [
              "IPY_MODEL_5e5062897efd4435a3379b501f5802b3",
              "IPY_MODEL_3d66ab2244514abab8742da4a87397d4",
              "IPY_MODEL_adf0ae745ea84b71bec7e0d4bd3a801d"
            ],
            "layout": "IPY_MODEL_5cc8938a08034c509cc37cf991dde858"
          }
        },
        "5e5062897efd4435a3379b501f5802b3": {
          "model_module": "@jupyter-widgets/controls",
          "model_name": "HTMLModel",
          "model_module_version": "1.5.0",
          "state": {
            "_dom_classes": [],
            "_model_module": "@jupyter-widgets/controls",
            "_model_module_version": "1.5.0",
            "_model_name": "HTMLModel",
            "_view_count": null,
            "_view_module": "@jupyter-widgets/controls",
            "_view_module_version": "1.5.0",
            "_view_name": "HTMLView",
            "description": "",
            "description_tooltip": null,
            "layout": "IPY_MODEL_1d9f3baef8ba4cae9bf50a6635fa579c",
            "placeholder": "​",
            "style": "IPY_MODEL_621d1f82741f447bb5b7a215e9a6cffc",
            "value": "100%"
          }
        },
        "3d66ab2244514abab8742da4a87397d4": {
          "model_module": "@jupyter-widgets/controls",
          "model_name": "FloatProgressModel",
          "model_module_version": "1.5.0",
          "state": {
            "_dom_classes": [],
            "_model_module": "@jupyter-widgets/controls",
            "_model_module_version": "1.5.0",
            "_model_name": "FloatProgressModel",
            "_view_count": null,
            "_view_module": "@jupyter-widgets/controls",
            "_view_module_version": "1.5.0",
            "_view_name": "ProgressView",
            "bar_style": "success",
            "description": "",
            "description_tooltip": null,
            "layout": "IPY_MODEL_a7d5b3a9ad9d4643bc0bd76da554dd58",
            "max": 28881,
            "min": 0,
            "orientation": "horizontal",
            "style": "IPY_MODEL_e18efa5641e849559bb7605a9df87d23",
            "value": 28881
          }
        },
        "adf0ae745ea84b71bec7e0d4bd3a801d": {
          "model_module": "@jupyter-widgets/controls",
          "model_name": "HTMLModel",
          "model_module_version": "1.5.0",
          "state": {
            "_dom_classes": [],
            "_model_module": "@jupyter-widgets/controls",
            "_model_module_version": "1.5.0",
            "_model_name": "HTMLModel",
            "_view_count": null,
            "_view_module": "@jupyter-widgets/controls",
            "_view_module_version": "1.5.0",
            "_view_name": "HTMLView",
            "description": "",
            "description_tooltip": null,
            "layout": "IPY_MODEL_02cd473fdd5448ff8af7bedc236900e1",
            "placeholder": "​",
            "style": "IPY_MODEL_5a92f38fb6c34a25a649b044bcd0dcbe",
            "value": " 28881/28881 [00:00&lt;00:00, 843011.50it/s]"
          }
        },
        "5cc8938a08034c509cc37cf991dde858": {
          "model_module": "@jupyter-widgets/base",
          "model_name": "LayoutModel",
          "model_module_version": "1.2.0",
          "state": {
            "_model_module": "@jupyter-widgets/base",
            "_model_module_version": "1.2.0",
            "_model_name": "LayoutModel",
            "_view_count": null,
            "_view_module": "@jupyter-widgets/base",
            "_view_module_version": "1.2.0",
            "_view_name": "LayoutView",
            "align_content": null,
            "align_items": null,
            "align_self": null,
            "border": null,
            "bottom": null,
            "display": null,
            "flex": null,
            "flex_flow": null,
            "grid_area": null,
            "grid_auto_columns": null,
            "grid_auto_flow": null,
            "grid_auto_rows": null,
            "grid_column": null,
            "grid_gap": null,
            "grid_row": null,
            "grid_template_areas": null,
            "grid_template_columns": null,
            "grid_template_rows": null,
            "height": null,
            "justify_content": null,
            "justify_items": null,
            "left": null,
            "margin": null,
            "max_height": null,
            "max_width": null,
            "min_height": null,
            "min_width": null,
            "object_fit": null,
            "object_position": null,
            "order": null,
            "overflow": null,
            "overflow_x": null,
            "overflow_y": null,
            "padding": null,
            "right": null,
            "top": null,
            "visibility": null,
            "width": null
          }
        },
        "1d9f3baef8ba4cae9bf50a6635fa579c": {
          "model_module": "@jupyter-widgets/base",
          "model_name": "LayoutModel",
          "model_module_version": "1.2.0",
          "state": {
            "_model_module": "@jupyter-widgets/base",
            "_model_module_version": "1.2.0",
            "_model_name": "LayoutModel",
            "_view_count": null,
            "_view_module": "@jupyter-widgets/base",
            "_view_module_version": "1.2.0",
            "_view_name": "LayoutView",
            "align_content": null,
            "align_items": null,
            "align_self": null,
            "border": null,
            "bottom": null,
            "display": null,
            "flex": null,
            "flex_flow": null,
            "grid_area": null,
            "grid_auto_columns": null,
            "grid_auto_flow": null,
            "grid_auto_rows": null,
            "grid_column": null,
            "grid_gap": null,
            "grid_row": null,
            "grid_template_areas": null,
            "grid_template_columns": null,
            "grid_template_rows": null,
            "height": null,
            "justify_content": null,
            "justify_items": null,
            "left": null,
            "margin": null,
            "max_height": null,
            "max_width": null,
            "min_height": null,
            "min_width": null,
            "object_fit": null,
            "object_position": null,
            "order": null,
            "overflow": null,
            "overflow_x": null,
            "overflow_y": null,
            "padding": null,
            "right": null,
            "top": null,
            "visibility": null,
            "width": null
          }
        },
        "621d1f82741f447bb5b7a215e9a6cffc": {
          "model_module": "@jupyter-widgets/controls",
          "model_name": "DescriptionStyleModel",
          "model_module_version": "1.5.0",
          "state": {
            "_model_module": "@jupyter-widgets/controls",
            "_model_module_version": "1.5.0",
            "_model_name": "DescriptionStyleModel",
            "_view_count": null,
            "_view_module": "@jupyter-widgets/base",
            "_view_module_version": "1.2.0",
            "_view_name": "StyleView",
            "description_width": ""
          }
        },
        "a7d5b3a9ad9d4643bc0bd76da554dd58": {
          "model_module": "@jupyter-widgets/base",
          "model_name": "LayoutModel",
          "model_module_version": "1.2.0",
          "state": {
            "_model_module": "@jupyter-widgets/base",
            "_model_module_version": "1.2.0",
            "_model_name": "LayoutModel",
            "_view_count": null,
            "_view_module": "@jupyter-widgets/base",
            "_view_module_version": "1.2.0",
            "_view_name": "LayoutView",
            "align_content": null,
            "align_items": null,
            "align_self": null,
            "border": null,
            "bottom": null,
            "display": null,
            "flex": null,
            "flex_flow": null,
            "grid_area": null,
            "grid_auto_columns": null,
            "grid_auto_flow": null,
            "grid_auto_rows": null,
            "grid_column": null,
            "grid_gap": null,
            "grid_row": null,
            "grid_template_areas": null,
            "grid_template_columns": null,
            "grid_template_rows": null,
            "height": null,
            "justify_content": null,
            "justify_items": null,
            "left": null,
            "margin": null,
            "max_height": null,
            "max_width": null,
            "min_height": null,
            "min_width": null,
            "object_fit": null,
            "object_position": null,
            "order": null,
            "overflow": null,
            "overflow_x": null,
            "overflow_y": null,
            "padding": null,
            "right": null,
            "top": null,
            "visibility": null,
            "width": null
          }
        },
        "e18efa5641e849559bb7605a9df87d23": {
          "model_module": "@jupyter-widgets/controls",
          "model_name": "ProgressStyleModel",
          "model_module_version": "1.5.0",
          "state": {
            "_model_module": "@jupyter-widgets/controls",
            "_model_module_version": "1.5.0",
            "_model_name": "ProgressStyleModel",
            "_view_count": null,
            "_view_module": "@jupyter-widgets/base",
            "_view_module_version": "1.2.0",
            "_view_name": "StyleView",
            "bar_color": null,
            "description_width": ""
          }
        },
        "02cd473fdd5448ff8af7bedc236900e1": {
          "model_module": "@jupyter-widgets/base",
          "model_name": "LayoutModel",
          "model_module_version": "1.2.0",
          "state": {
            "_model_module": "@jupyter-widgets/base",
            "_model_module_version": "1.2.0",
            "_model_name": "LayoutModel",
            "_view_count": null,
            "_view_module": "@jupyter-widgets/base",
            "_view_module_version": "1.2.0",
            "_view_name": "LayoutView",
            "align_content": null,
            "align_items": null,
            "align_self": null,
            "border": null,
            "bottom": null,
            "display": null,
            "flex": null,
            "flex_flow": null,
            "grid_area": null,
            "grid_auto_columns": null,
            "grid_auto_flow": null,
            "grid_auto_rows": null,
            "grid_column": null,
            "grid_gap": null,
            "grid_row": null,
            "grid_template_areas": null,
            "grid_template_columns": null,
            "grid_template_rows": null,
            "height": null,
            "justify_content": null,
            "justify_items": null,
            "left": null,
            "margin": null,
            "max_height": null,
            "max_width": null,
            "min_height": null,
            "min_width": null,
            "object_fit": null,
            "object_position": null,
            "order": null,
            "overflow": null,
            "overflow_x": null,
            "overflow_y": null,
            "padding": null,
            "right": null,
            "top": null,
            "visibility": null,
            "width": null
          }
        },
        "5a92f38fb6c34a25a649b044bcd0dcbe": {
          "model_module": "@jupyter-widgets/controls",
          "model_name": "DescriptionStyleModel",
          "model_module_version": "1.5.0",
          "state": {
            "_model_module": "@jupyter-widgets/controls",
            "_model_module_version": "1.5.0",
            "_model_name": "DescriptionStyleModel",
            "_view_count": null,
            "_view_module": "@jupyter-widgets/base",
            "_view_module_version": "1.2.0",
            "_view_name": "StyleView",
            "description_width": ""
          }
        },
        "afa9984e3eb44c9a9ef3770bb2dd1aec": {
          "model_module": "@jupyter-widgets/controls",
          "model_name": "HBoxModel",
          "model_module_version": "1.5.0",
          "state": {
            "_dom_classes": [],
            "_model_module": "@jupyter-widgets/controls",
            "_model_module_version": "1.5.0",
            "_model_name": "HBoxModel",
            "_view_count": null,
            "_view_module": "@jupyter-widgets/controls",
            "_view_module_version": "1.5.0",
            "_view_name": "HBoxView",
            "box_style": "",
            "children": [
              "IPY_MODEL_723f05758f0040f79783d3e6fd346881",
              "IPY_MODEL_99f1123dafdd41938afe70c47fd45988",
              "IPY_MODEL_c74ae60e9d1440d2b499e1ec17c3a03f"
            ],
            "layout": "IPY_MODEL_9617cb001d0e4a538dcfac0545c7a1e1"
          }
        },
        "723f05758f0040f79783d3e6fd346881": {
          "model_module": "@jupyter-widgets/controls",
          "model_name": "HTMLModel",
          "model_module_version": "1.5.0",
          "state": {
            "_dom_classes": [],
            "_model_module": "@jupyter-widgets/controls",
            "_model_module_version": "1.5.0",
            "_model_name": "HTMLModel",
            "_view_count": null,
            "_view_module": "@jupyter-widgets/controls",
            "_view_module_version": "1.5.0",
            "_view_name": "HTMLView",
            "description": "",
            "description_tooltip": null,
            "layout": "IPY_MODEL_f8af41b6fe9f4ec384d4a84ecf991ca8",
            "placeholder": "​",
            "style": "IPY_MODEL_3ee703366ffd4039900ee95c1ecd8205",
            "value": "100%"
          }
        },
        "99f1123dafdd41938afe70c47fd45988": {
          "model_module": "@jupyter-widgets/controls",
          "model_name": "FloatProgressModel",
          "model_module_version": "1.5.0",
          "state": {
            "_dom_classes": [],
            "_model_module": "@jupyter-widgets/controls",
            "_model_module_version": "1.5.0",
            "_model_name": "FloatProgressModel",
            "_view_count": null,
            "_view_module": "@jupyter-widgets/controls",
            "_view_module_version": "1.5.0",
            "_view_name": "ProgressView",
            "bar_style": "success",
            "description": "",
            "description_tooltip": null,
            "layout": "IPY_MODEL_367bad05479a441b8cf019721b3298bf",
            "max": 1648877,
            "min": 0,
            "orientation": "horizontal",
            "style": "IPY_MODEL_c20f17d1e852496f8ac43645074864e1",
            "value": 1648877
          }
        },
        "c74ae60e9d1440d2b499e1ec17c3a03f": {
          "model_module": "@jupyter-widgets/controls",
          "model_name": "HTMLModel",
          "model_module_version": "1.5.0",
          "state": {
            "_dom_classes": [],
            "_model_module": "@jupyter-widgets/controls",
            "_model_module_version": "1.5.0",
            "_model_name": "HTMLModel",
            "_view_count": null,
            "_view_module": "@jupyter-widgets/controls",
            "_view_module_version": "1.5.0",
            "_view_name": "HTMLView",
            "description": "",
            "description_tooltip": null,
            "layout": "IPY_MODEL_5276fc7056aa44fca6b17dd9cf68312b",
            "placeholder": "​",
            "style": "IPY_MODEL_9ce2dc05d56a4e1c98bc9f999aab24a4",
            "value": " 1648877/1648877 [00:00&lt;00:00, 26957179.65it/s]"
          }
        },
        "9617cb001d0e4a538dcfac0545c7a1e1": {
          "model_module": "@jupyter-widgets/base",
          "model_name": "LayoutModel",
          "model_module_version": "1.2.0",
          "state": {
            "_model_module": "@jupyter-widgets/base",
            "_model_module_version": "1.2.0",
            "_model_name": "LayoutModel",
            "_view_count": null,
            "_view_module": "@jupyter-widgets/base",
            "_view_module_version": "1.2.0",
            "_view_name": "LayoutView",
            "align_content": null,
            "align_items": null,
            "align_self": null,
            "border": null,
            "bottom": null,
            "display": null,
            "flex": null,
            "flex_flow": null,
            "grid_area": null,
            "grid_auto_columns": null,
            "grid_auto_flow": null,
            "grid_auto_rows": null,
            "grid_column": null,
            "grid_gap": null,
            "grid_row": null,
            "grid_template_areas": null,
            "grid_template_columns": null,
            "grid_template_rows": null,
            "height": null,
            "justify_content": null,
            "justify_items": null,
            "left": null,
            "margin": null,
            "max_height": null,
            "max_width": null,
            "min_height": null,
            "min_width": null,
            "object_fit": null,
            "object_position": null,
            "order": null,
            "overflow": null,
            "overflow_x": null,
            "overflow_y": null,
            "padding": null,
            "right": null,
            "top": null,
            "visibility": null,
            "width": null
          }
        },
        "f8af41b6fe9f4ec384d4a84ecf991ca8": {
          "model_module": "@jupyter-widgets/base",
          "model_name": "LayoutModel",
          "model_module_version": "1.2.0",
          "state": {
            "_model_module": "@jupyter-widgets/base",
            "_model_module_version": "1.2.0",
            "_model_name": "LayoutModel",
            "_view_count": null,
            "_view_module": "@jupyter-widgets/base",
            "_view_module_version": "1.2.0",
            "_view_name": "LayoutView",
            "align_content": null,
            "align_items": null,
            "align_self": null,
            "border": null,
            "bottom": null,
            "display": null,
            "flex": null,
            "flex_flow": null,
            "grid_area": null,
            "grid_auto_columns": null,
            "grid_auto_flow": null,
            "grid_auto_rows": null,
            "grid_column": null,
            "grid_gap": null,
            "grid_row": null,
            "grid_template_areas": null,
            "grid_template_columns": null,
            "grid_template_rows": null,
            "height": null,
            "justify_content": null,
            "justify_items": null,
            "left": null,
            "margin": null,
            "max_height": null,
            "max_width": null,
            "min_height": null,
            "min_width": null,
            "object_fit": null,
            "object_position": null,
            "order": null,
            "overflow": null,
            "overflow_x": null,
            "overflow_y": null,
            "padding": null,
            "right": null,
            "top": null,
            "visibility": null,
            "width": null
          }
        },
        "3ee703366ffd4039900ee95c1ecd8205": {
          "model_module": "@jupyter-widgets/controls",
          "model_name": "DescriptionStyleModel",
          "model_module_version": "1.5.0",
          "state": {
            "_model_module": "@jupyter-widgets/controls",
            "_model_module_version": "1.5.0",
            "_model_name": "DescriptionStyleModel",
            "_view_count": null,
            "_view_module": "@jupyter-widgets/base",
            "_view_module_version": "1.2.0",
            "_view_name": "StyleView",
            "description_width": ""
          }
        },
        "367bad05479a441b8cf019721b3298bf": {
          "model_module": "@jupyter-widgets/base",
          "model_name": "LayoutModel",
          "model_module_version": "1.2.0",
          "state": {
            "_model_module": "@jupyter-widgets/base",
            "_model_module_version": "1.2.0",
            "_model_name": "LayoutModel",
            "_view_count": null,
            "_view_module": "@jupyter-widgets/base",
            "_view_module_version": "1.2.0",
            "_view_name": "LayoutView",
            "align_content": null,
            "align_items": null,
            "align_self": null,
            "border": null,
            "bottom": null,
            "display": null,
            "flex": null,
            "flex_flow": null,
            "grid_area": null,
            "grid_auto_columns": null,
            "grid_auto_flow": null,
            "grid_auto_rows": null,
            "grid_column": null,
            "grid_gap": null,
            "grid_row": null,
            "grid_template_areas": null,
            "grid_template_columns": null,
            "grid_template_rows": null,
            "height": null,
            "justify_content": null,
            "justify_items": null,
            "left": null,
            "margin": null,
            "max_height": null,
            "max_width": null,
            "min_height": null,
            "min_width": null,
            "object_fit": null,
            "object_position": null,
            "order": null,
            "overflow": null,
            "overflow_x": null,
            "overflow_y": null,
            "padding": null,
            "right": null,
            "top": null,
            "visibility": null,
            "width": null
          }
        },
        "c20f17d1e852496f8ac43645074864e1": {
          "model_module": "@jupyter-widgets/controls",
          "model_name": "ProgressStyleModel",
          "model_module_version": "1.5.0",
          "state": {
            "_model_module": "@jupyter-widgets/controls",
            "_model_module_version": "1.5.0",
            "_model_name": "ProgressStyleModel",
            "_view_count": null,
            "_view_module": "@jupyter-widgets/base",
            "_view_module_version": "1.2.0",
            "_view_name": "StyleView",
            "bar_color": null,
            "description_width": ""
          }
        },
        "5276fc7056aa44fca6b17dd9cf68312b": {
          "model_module": "@jupyter-widgets/base",
          "model_name": "LayoutModel",
          "model_module_version": "1.2.0",
          "state": {
            "_model_module": "@jupyter-widgets/base",
            "_model_module_version": "1.2.0",
            "_model_name": "LayoutModel",
            "_view_count": null,
            "_view_module": "@jupyter-widgets/base",
            "_view_module_version": "1.2.0",
            "_view_name": "LayoutView",
            "align_content": null,
            "align_items": null,
            "align_self": null,
            "border": null,
            "bottom": null,
            "display": null,
            "flex": null,
            "flex_flow": null,
            "grid_area": null,
            "grid_auto_columns": null,
            "grid_auto_flow": null,
            "grid_auto_rows": null,
            "grid_column": null,
            "grid_gap": null,
            "grid_row": null,
            "grid_template_areas": null,
            "grid_template_columns": null,
            "grid_template_rows": null,
            "height": null,
            "justify_content": null,
            "justify_items": null,
            "left": null,
            "margin": null,
            "max_height": null,
            "max_width": null,
            "min_height": null,
            "min_width": null,
            "object_fit": null,
            "object_position": null,
            "order": null,
            "overflow": null,
            "overflow_x": null,
            "overflow_y": null,
            "padding": null,
            "right": null,
            "top": null,
            "visibility": null,
            "width": null
          }
        },
        "9ce2dc05d56a4e1c98bc9f999aab24a4": {
          "model_module": "@jupyter-widgets/controls",
          "model_name": "DescriptionStyleModel",
          "model_module_version": "1.5.0",
          "state": {
            "_model_module": "@jupyter-widgets/controls",
            "_model_module_version": "1.5.0",
            "_model_name": "DescriptionStyleModel",
            "_view_count": null,
            "_view_module": "@jupyter-widgets/base",
            "_view_module_version": "1.2.0",
            "_view_name": "StyleView",
            "description_width": ""
          }
        },
        "1355927d26ea4802b97877888f8d3d6b": {
          "model_module": "@jupyter-widgets/controls",
          "model_name": "HBoxModel",
          "model_module_version": "1.5.0",
          "state": {
            "_dom_classes": [],
            "_model_module": "@jupyter-widgets/controls",
            "_model_module_version": "1.5.0",
            "_model_name": "HBoxModel",
            "_view_count": null,
            "_view_module": "@jupyter-widgets/controls",
            "_view_module_version": "1.5.0",
            "_view_name": "HBoxView",
            "box_style": "",
            "children": [
              "IPY_MODEL_085162c4fe874630bfa43f70fef98118",
              "IPY_MODEL_54c899c6caa54e0aaedc6a22277c9cb9",
              "IPY_MODEL_563e03118e2c42ff842e67faf6cef72c"
            ],
            "layout": "IPY_MODEL_3fd733868872419cb8997d5d3ad33b7b"
          }
        },
        "085162c4fe874630bfa43f70fef98118": {
          "model_module": "@jupyter-widgets/controls",
          "model_name": "HTMLModel",
          "model_module_version": "1.5.0",
          "state": {
            "_dom_classes": [],
            "_model_module": "@jupyter-widgets/controls",
            "_model_module_version": "1.5.0",
            "_model_name": "HTMLModel",
            "_view_count": null,
            "_view_module": "@jupyter-widgets/controls",
            "_view_module_version": "1.5.0",
            "_view_name": "HTMLView",
            "description": "",
            "description_tooltip": null,
            "layout": "IPY_MODEL_b5bfa5f2bc2548fea86f6896a7e358e8",
            "placeholder": "​",
            "style": "IPY_MODEL_b9d9aa85766242588f37ec0135f7ae7b",
            "value": "100%"
          }
        },
        "54c899c6caa54e0aaedc6a22277c9cb9": {
          "model_module": "@jupyter-widgets/controls",
          "model_name": "FloatProgressModel",
          "model_module_version": "1.5.0",
          "state": {
            "_dom_classes": [],
            "_model_module": "@jupyter-widgets/controls",
            "_model_module_version": "1.5.0",
            "_model_name": "FloatProgressModel",
            "_view_count": null,
            "_view_module": "@jupyter-widgets/controls",
            "_view_module_version": "1.5.0",
            "_view_name": "ProgressView",
            "bar_style": "success",
            "description": "",
            "description_tooltip": null,
            "layout": "IPY_MODEL_2018a8ad493447d6bede30c88aca903d",
            "max": 4542,
            "min": 0,
            "orientation": "horizontal",
            "style": "IPY_MODEL_da8f7efa67aa4eaa80d384da621824e7",
            "value": 4542
          }
        },
        "563e03118e2c42ff842e67faf6cef72c": {
          "model_module": "@jupyter-widgets/controls",
          "model_name": "HTMLModel",
          "model_module_version": "1.5.0",
          "state": {
            "_dom_classes": [],
            "_model_module": "@jupyter-widgets/controls",
            "_model_module_version": "1.5.0",
            "_model_name": "HTMLModel",
            "_view_count": null,
            "_view_module": "@jupyter-widgets/controls",
            "_view_module_version": "1.5.0",
            "_view_name": "HTMLView",
            "description": "",
            "description_tooltip": null,
            "layout": "IPY_MODEL_94c377bdcbca4fe7bdd4234f54182955",
            "placeholder": "​",
            "style": "IPY_MODEL_5f882624d3f146a7806d348090f396f2",
            "value": " 4542/4542 [00:00&lt;00:00, 177313.19it/s]"
          }
        },
        "3fd733868872419cb8997d5d3ad33b7b": {
          "model_module": "@jupyter-widgets/base",
          "model_name": "LayoutModel",
          "model_module_version": "1.2.0",
          "state": {
            "_model_module": "@jupyter-widgets/base",
            "_model_module_version": "1.2.0",
            "_model_name": "LayoutModel",
            "_view_count": null,
            "_view_module": "@jupyter-widgets/base",
            "_view_module_version": "1.2.0",
            "_view_name": "LayoutView",
            "align_content": null,
            "align_items": null,
            "align_self": null,
            "border": null,
            "bottom": null,
            "display": null,
            "flex": null,
            "flex_flow": null,
            "grid_area": null,
            "grid_auto_columns": null,
            "grid_auto_flow": null,
            "grid_auto_rows": null,
            "grid_column": null,
            "grid_gap": null,
            "grid_row": null,
            "grid_template_areas": null,
            "grid_template_columns": null,
            "grid_template_rows": null,
            "height": null,
            "justify_content": null,
            "justify_items": null,
            "left": null,
            "margin": null,
            "max_height": null,
            "max_width": null,
            "min_height": null,
            "min_width": null,
            "object_fit": null,
            "object_position": null,
            "order": null,
            "overflow": null,
            "overflow_x": null,
            "overflow_y": null,
            "padding": null,
            "right": null,
            "top": null,
            "visibility": null,
            "width": null
          }
        },
        "b5bfa5f2bc2548fea86f6896a7e358e8": {
          "model_module": "@jupyter-widgets/base",
          "model_name": "LayoutModel",
          "model_module_version": "1.2.0",
          "state": {
            "_model_module": "@jupyter-widgets/base",
            "_model_module_version": "1.2.0",
            "_model_name": "LayoutModel",
            "_view_count": null,
            "_view_module": "@jupyter-widgets/base",
            "_view_module_version": "1.2.0",
            "_view_name": "LayoutView",
            "align_content": null,
            "align_items": null,
            "align_self": null,
            "border": null,
            "bottom": null,
            "display": null,
            "flex": null,
            "flex_flow": null,
            "grid_area": null,
            "grid_auto_columns": null,
            "grid_auto_flow": null,
            "grid_auto_rows": null,
            "grid_column": null,
            "grid_gap": null,
            "grid_row": null,
            "grid_template_areas": null,
            "grid_template_columns": null,
            "grid_template_rows": null,
            "height": null,
            "justify_content": null,
            "justify_items": null,
            "left": null,
            "margin": null,
            "max_height": null,
            "max_width": null,
            "min_height": null,
            "min_width": null,
            "object_fit": null,
            "object_position": null,
            "order": null,
            "overflow": null,
            "overflow_x": null,
            "overflow_y": null,
            "padding": null,
            "right": null,
            "top": null,
            "visibility": null,
            "width": null
          }
        },
        "b9d9aa85766242588f37ec0135f7ae7b": {
          "model_module": "@jupyter-widgets/controls",
          "model_name": "DescriptionStyleModel",
          "model_module_version": "1.5.0",
          "state": {
            "_model_module": "@jupyter-widgets/controls",
            "_model_module_version": "1.5.0",
            "_model_name": "DescriptionStyleModel",
            "_view_count": null,
            "_view_module": "@jupyter-widgets/base",
            "_view_module_version": "1.2.0",
            "_view_name": "StyleView",
            "description_width": ""
          }
        },
        "2018a8ad493447d6bede30c88aca903d": {
          "model_module": "@jupyter-widgets/base",
          "model_name": "LayoutModel",
          "model_module_version": "1.2.0",
          "state": {
            "_model_module": "@jupyter-widgets/base",
            "_model_module_version": "1.2.0",
            "_model_name": "LayoutModel",
            "_view_count": null,
            "_view_module": "@jupyter-widgets/base",
            "_view_module_version": "1.2.0",
            "_view_name": "LayoutView",
            "align_content": null,
            "align_items": null,
            "align_self": null,
            "border": null,
            "bottom": null,
            "display": null,
            "flex": null,
            "flex_flow": null,
            "grid_area": null,
            "grid_auto_columns": null,
            "grid_auto_flow": null,
            "grid_auto_rows": null,
            "grid_column": null,
            "grid_gap": null,
            "grid_row": null,
            "grid_template_areas": null,
            "grid_template_columns": null,
            "grid_template_rows": null,
            "height": null,
            "justify_content": null,
            "justify_items": null,
            "left": null,
            "margin": null,
            "max_height": null,
            "max_width": null,
            "min_height": null,
            "min_width": null,
            "object_fit": null,
            "object_position": null,
            "order": null,
            "overflow": null,
            "overflow_x": null,
            "overflow_y": null,
            "padding": null,
            "right": null,
            "top": null,
            "visibility": null,
            "width": null
          }
        },
        "da8f7efa67aa4eaa80d384da621824e7": {
          "model_module": "@jupyter-widgets/controls",
          "model_name": "ProgressStyleModel",
          "model_module_version": "1.5.0",
          "state": {
            "_model_module": "@jupyter-widgets/controls",
            "_model_module_version": "1.5.0",
            "_model_name": "ProgressStyleModel",
            "_view_count": null,
            "_view_module": "@jupyter-widgets/base",
            "_view_module_version": "1.2.0",
            "_view_name": "StyleView",
            "bar_color": null,
            "description_width": ""
          }
        },
        "94c377bdcbca4fe7bdd4234f54182955": {
          "model_module": "@jupyter-widgets/base",
          "model_name": "LayoutModel",
          "model_module_version": "1.2.0",
          "state": {
            "_model_module": "@jupyter-widgets/base",
            "_model_module_version": "1.2.0",
            "_model_name": "LayoutModel",
            "_view_count": null,
            "_view_module": "@jupyter-widgets/base",
            "_view_module_version": "1.2.0",
            "_view_name": "LayoutView",
            "align_content": null,
            "align_items": null,
            "align_self": null,
            "border": null,
            "bottom": null,
            "display": null,
            "flex": null,
            "flex_flow": null,
            "grid_area": null,
            "grid_auto_columns": null,
            "grid_auto_flow": null,
            "grid_auto_rows": null,
            "grid_column": null,
            "grid_gap": null,
            "grid_row": null,
            "grid_template_areas": null,
            "grid_template_columns": null,
            "grid_template_rows": null,
            "height": null,
            "justify_content": null,
            "justify_items": null,
            "left": null,
            "margin": null,
            "max_height": null,
            "max_width": null,
            "min_height": null,
            "min_width": null,
            "object_fit": null,
            "object_position": null,
            "order": null,
            "overflow": null,
            "overflow_x": null,
            "overflow_y": null,
            "padding": null,
            "right": null,
            "top": null,
            "visibility": null,
            "width": null
          }
        },
        "5f882624d3f146a7806d348090f396f2": {
          "model_module": "@jupyter-widgets/controls",
          "model_name": "DescriptionStyleModel",
          "model_module_version": "1.5.0",
          "state": {
            "_model_module": "@jupyter-widgets/controls",
            "_model_module_version": "1.5.0",
            "_model_name": "DescriptionStyleModel",
            "_view_count": null,
            "_view_module": "@jupyter-widgets/base",
            "_view_module_version": "1.2.0",
            "_view_name": "StyleView",
            "description_width": ""
          }
        }
      }
    }
  },
  "nbformat": 4,
  "nbformat_minor": 5
}